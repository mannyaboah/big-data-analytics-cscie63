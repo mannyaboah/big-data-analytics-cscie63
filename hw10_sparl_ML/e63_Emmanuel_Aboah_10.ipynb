{
 "cells": [
  {
   "attachments": {},
   "cell_type": "markdown",
   "metadata": {},
   "source": [
    "# HU Extension              Assignment 10      E63 Big Data Analytics \t\t                  \t\n",
    "## Handed out: 04/08/2023                         Due by 12:00 noon EST on Saturday, 04/15/2023\n",
    "### Emmanuel Aboah\n",
    "\n",
    "\n",
    "__Note For TF__: In problem 3 we are asked to \"Treat horsepower as a feature and mpg as the target variable (label)\". I instead constructed my vector with all fields. But i have accommodated for it in problem 4 since I essentially solved problem 4 in problem 3. This notebook has many cells so i did not order it in the interest of time."
   ]
  },
  {
   "attachments": {},
   "cell_type": "markdown",
   "metadata": {},
   "source": [
    "# Problem 1. \n",
    "\n",
    "On slides 70 to 71 of lecture notes on Spark ML you will find results of the predictions of Linear Regression model for the train set and the test set generated from the simple-ml dataset.  Capture outputs of those two prediction exercises into two DataFrames and use them to assess the accuracy of prediction in those two cases. Express errors as percent of correct answers when compared to the total numbers of samples. Those numbers are not identical in two cases. Attached ZIP file simple-ml.zip contains the artificial data set used in the lecture notes."
   ]
  },
  {
   "attachments": {},
   "cell_type": "markdown",
   "metadata": {},
   "source": [
    "Set up Linear regression models"
   ]
  },
  {
   "cell_type": "code",
   "execution_count": 7,
   "metadata": {},
   "outputs": [
    {
     "name": "stderr",
     "output_type": "stream",
     "text": [
      "your 131072x1 screen size is bogus. expect trouble\n"
     ]
    },
    {
     "name": "stdout",
     "output_type": "stream",
     "text": [
      "23/04/15 13:19:28 WARN Utils: Your hostname, LAPTOP-85L1BUVJ resolves to a loopback address: 127.0.1.1; using 172.19.201.226 instead (on interface eth0)\n",
      "23/04/15 13:19:28 WARN Utils: Set SPARK_LOCAL_IP if you need to bind to another address\n"
     ]
    },
    {
     "name": "stderr",
     "output_type": "stream",
     "text": [
      "Setting default log level to \"WARN\".\n",
      "To adjust logging level use sc.setLogLevel(newLevel). For SparkR, use setLogLevel(newLevel).\n"
     ]
    },
    {
     "name": "stdout",
     "output_type": "stream",
     "text": [
      "23/04/15 13:19:30 WARN NativeCodeLoader: Unable to load native-hadoop library for your platform... using builtin-java classes where applicable\n"
     ]
    }
   ],
   "source": [
    "# Imports\n",
    "import findspark\n",
    "from pyspark import SparkContext\n",
    "from pyspark.sql import SparkSession\n",
    "\n",
    "findspark.init()\n",
    "\n",
    "# Setup spark configs and context\n",
    "spark = SparkSession.builder.appName(\"ml_app\").getOrCreate()\n",
    "sc = SparkContext.getOrCreate()\n",
    "sc.setLogLevel(\"ERROR\")"
   ]
  },
  {
   "cell_type": "code",
   "execution_count": 8,
   "metadata": {},
   "outputs": [
    {
     "name": "stderr",
     "output_type": "stream",
     "text": [
      "[Stage 0:>                                                          (0 + 1) / 1]\r"
     ]
    },
    {
     "name": "stdout",
     "output_type": "stream",
     "text": [
      "root\n",
      " |-- color: string (nullable = true)\n",
      " |-- lab: string (nullable = true)\n",
      " |-- value1: long (nullable = true)\n",
      " |-- value2: double (nullable = true)\n",
      "\n"
     ]
    },
    {
     "name": "stderr",
     "output_type": "stream",
     "text": [
      "                                                                                \r"
     ]
    }
   ],
   "source": [
    "# Read data\n",
    "simple_ml_df = spark.read.json(\"./data/simple-ml.json\")\n",
    "\n",
    "simple_ml_df.printSchema()"
   ]
  },
  {
   "attachments": {},
   "cell_type": "markdown",
   "metadata": {},
   "source": [
    "Exploratory Data Analysis"
   ]
  },
  {
   "cell_type": "code",
   "execution_count": 15,
   "metadata": {},
   "outputs": [
    {
     "name": "stdout",
     "output_type": "stream",
     "text": [
      "+-----+\n",
      "|color|\n",
      "+-----+\n",
      "|green|\n",
      "|  red|\n",
      "| blue|\n",
      "+-----+\n",
      "\n"
     ]
    }
   ],
   "source": [
    "simple_ml_df.select(simple_ml_df[\"color\"]).distinct().show()"
   ]
  },
  {
   "cell_type": "code",
   "execution_count": 18,
   "metadata": {},
   "outputs": [
    {
     "name": "stdout",
     "output_type": "stream",
     "text": [
      "+------+\n",
      "|value1|\n",
      "+------+\n",
      "|     1|\n",
      "|    12|\n",
      "|     8|\n",
      "|    35|\n",
      "|     2|\n",
      "|    15|\n",
      "|    16|\n",
      "|    45|\n",
      "+------+\n",
      "\n"
     ]
    }
   ],
   "source": [
    "simple_ml_df.select(simple_ml_df[\"value1\"]).distinct().show()"
   ]
  },
  {
   "cell_type": "code",
   "execution_count": 19,
   "metadata": {},
   "outputs": [
    {
     "name": "stdout",
     "output_type": "stream",
     "text": [
      "+------------------+\n",
      "|            value2|\n",
      "+------------------+\n",
      "|14.386294994851129|\n",
      "| 38.97187133755819|\n",
      "+------------------+\n",
      "\n"
     ]
    }
   ],
   "source": [
    "simple_ml_df.select(simple_ml_df[\"value2\"]).distinct().show()"
   ]
  },
  {
   "cell_type": "code",
   "execution_count": 20,
   "metadata": {},
   "outputs": [],
   "source": [
    "# Select feature from the DF using RFormula\n",
    "\n",
    "from pyspark.ml.feature import RFormula\n",
    "supervised = RFormula(formula=\"lab ~ .\")"
   ]
  },
  {
   "cell_type": "code",
   "execution_count": 21,
   "metadata": {},
   "outputs": [
    {
     "name": "stderr",
     "output_type": "stream",
     "text": [
      "                                                                                \r"
     ]
    }
   ],
   "source": [
    "# Fit the RFormula transformer\n",
    "\n",
    "fitted_rformula = supervised.fit(simple_ml_df)"
   ]
  },
  {
   "cell_type": "code",
   "execution_count": 22,
   "metadata": {},
   "outputs": [
    {
     "name": "stdout",
     "output_type": "stream",
     "text": [
      "+-----+----+------+------------------+---------------------------------+-----+\n",
      "|color|lab |value1|value2            |features                         |label|\n",
      "+-----+----+------+------------------+---------------------------------+-----+\n",
      "|green|good|1     |14.386294994851129|[0.0,1.0,1.0,14.386294994851129] |1.0  |\n",
      "|blue |bad |8     |14.386294994851129|[0.0,0.0,8.0,14.386294994851129] |0.0  |\n",
      "|blue |bad |12    |14.386294994851129|[0.0,0.0,12.0,14.386294994851129]|0.0  |\n",
      "|green|good|15    |38.97187133755819 |[0.0,1.0,15.0,38.97187133755819] |1.0  |\n",
      "|green|good|12    |14.386294994851129|[0.0,1.0,12.0,14.386294994851129]|1.0  |\n",
      "|green|bad |16    |14.386294994851129|[0.0,1.0,16.0,14.386294994851129]|0.0  |\n",
      "|red  |good|35    |14.386294994851129|[1.0,0.0,35.0,14.386294994851129]|1.0  |\n",
      "|red  |bad |1     |38.97187133755819 |[1.0,0.0,1.0,38.97187133755819]  |0.0  |\n",
      "|red  |bad |2     |14.386294994851129|[1.0,0.0,2.0,14.386294994851129] |0.0  |\n",
      "|red  |bad |16    |14.386294994851129|[1.0,0.0,16.0,14.386294994851129]|0.0  |\n",
      "+-----+----+------+------------------+---------------------------------+-----+\n",
      "only showing top 10 rows\n",
      "\n"
     ]
    }
   ],
   "source": [
    "# Apply the transformations to the DF\n",
    "\n",
    "prepared_df = fitted_rformula.transform(simple_ml_df)\n",
    "prepared_df.show(10, False)"
   ]
  },
  {
   "attachments": {},
   "cell_type": "markdown",
   "metadata": {},
   "source": [
    "Classification with logistic linear regression"
   ]
  },
  {
   "cell_type": "code",
   "execution_count": 23,
   "metadata": {},
   "outputs": [],
   "source": [
    "# Random split to train and test\n",
    "\n",
    "train, test = prepared_df.randomSplit([0.7, 0.3])"
   ]
  },
  {
   "cell_type": "code",
   "execution_count": 24,
   "metadata": {},
   "outputs": [],
   "source": [
    "# Instantiate Classifier\n",
    "\n",
    "from pyspark.ml.classification import LogisticRegression\n",
    "\n",
    "logistic_regr = LogisticRegression(labelCol=\"label\", featuresCol=\"features\")"
   ]
  },
  {
   "cell_type": "code",
   "execution_count": 27,
   "metadata": {},
   "outputs": [
    {
     "data": {
      "text/plain": [
       "\"aggregationDepth: suggested depth for treeAggregate (>= 2). (default: 2)\\nelasticNetParam: the ElasticNet mixing parameter, in range [0, 1]. For alpha = 0, the penalty is an L2 penalty. For alpha = 1, it is an L1 penalty. (default: 0.0)\\nfamily: The name of family which is a description of the label distribution to be used in the model. Supported options: auto, binomial, multinomial (default: auto)\\nfeaturesCol: features column name. (default: features, current: features)\\nfitIntercept: whether to fit an intercept term. (default: True)\\nlabelCol: label column name. (default: label, current: label)\\nlowerBoundsOnCoefficients: The lower bounds on coefficients if fitting under bound constrained optimization. The bound matrix must be compatible with the shape (1, number of features) for binomial regression, or (number of classes, number of features) for multinomial regression. (undefined)\\nlowerBoundsOnIntercepts: The lower bounds on intercepts if fitting under bound constrained optimization. The bounds vector size must beequal with 1 for binomial regression, or the number oflasses for multinomial regression. (undefined)\\nmaxBlockSizeInMB: maximum memory in MB for stacking input data into blocks. Data is stacked within partitions. If more than remaining data size in a partition then it is adjusted to the data size. Default 0.0 represents choosing optimal value, depends on specific algorithm. Must be >= 0. (default: 0.0)\\nmaxIter: max number of iterations (>= 0). (default: 100)\\npredictionCol: prediction column name. (default: prediction)\\nprobabilityCol: Column name for predicted class conditional probabilities. Note: Not all models output well-calibrated probability estimates! These probabilities should be treated as confidences, not precise probabilities. (default: probability)\\nrawPredictionCol: raw prediction (a.k.a. confidence) column name. (default: rawPrediction)\\nregParam: regularization parameter (>= 0). (default: 0.0)\\nstandardization: whether to standardize the training features before fitting the model. (default: True)\\nthreshold: Threshold in binary classification prediction, in range [0, 1]. If threshold and thresholds are both set, they must match.e.g. if threshold is p, then thresholds must be equal to [1-p, p]. (default: 0.5)\\nthresholds: Thresholds in multi-class classification to adjust the probability of predicting each class. Array must have length equal to the number of classes, with values > 0, excepting that at most one value may be 0. The class with largest value p/t is predicted, where p is the original probability of that class and t is the class's threshold. (undefined)\\ntol: the convergence tolerance for iterative algorithms (>= 0). (default: 1e-06)\\nupperBoundsOnCoefficients: The upper bounds on coefficients if fitting under bound constrained optimization. The bound matrix must be compatible with the shape (1, number of features) for binomial regression, or (number of classes, number of features) for multinomial regression. (undefined)\\nupperBoundsOnIntercepts: The upper bounds on intercepts if fitting under bound constrained optimization. The bound vector size must be equal with 1 for binomial regression, or the number of classes for multinomial regression. (undefined)\\nweightCol: weight column name. If this is not set or empty, we treat all instance weights as 1.0. (undefined)\""
      ]
     },
     "execution_count": 27,
     "metadata": {},
     "output_type": "execute_result"
    }
   ],
   "source": [
    "# Explain parameter\n",
    "\n",
    "logistic_regr.explainParams()"
   ]
  },
  {
   "cell_type": "code",
   "execution_count": 28,
   "metadata": {},
   "outputs": [
    {
     "data": {
      "text/plain": [
       "'predictionCol: prediction column name. (default: prediction)'"
      ]
     },
     "execution_count": 28,
     "metadata": {},
     "output_type": "execute_result"
    }
   ],
   "source": [
    "# Explain individual parameter\n",
    "logistic_regr.explainParam(\"predictionCol\")"
   ]
  },
  {
   "cell_type": "code",
   "execution_count": 33,
   "metadata": {},
   "outputs": [],
   "source": [
    "# Train the model by fitting the logistic_regression train dataset\n",
    "\n",
    "fitted_logistic_regr_model = logistic_regr.fit(train)"
   ]
  },
  {
   "cell_type": "code",
   "execution_count": 48,
   "metadata": {},
   "outputs": [
    {
     "name": "stdout",
     "output_type": "stream",
     "text": [
      "+-----+----------+\n",
      "|label|prediction|\n",
      "+-----+----------+\n",
      "|  0.0|       0.0|\n",
      "|  0.0|       0.0|\n",
      "|  0.0|       0.0|\n",
      "|  0.0|       0.0|\n",
      "|  0.0|       0.0|\n",
      "|  0.0|       0.0|\n",
      "|  0.0|       0.0|\n",
      "|  0.0|       0.0|\n",
      "|  0.0|       0.0|\n",
      "|  0.0|       0.0|\n",
      "|  0.0|       0.0|\n",
      "|  0.0|       0.0|\n",
      "|  0.0|       0.0|\n",
      "|  0.0|       0.0|\n",
      "|  0.0|       0.0|\n",
      "|  0.0|       0.0|\n",
      "|  0.0|       0.0|\n",
      "|  0.0|       1.0|\n",
      "|  0.0|       1.0|\n",
      "|  0.0|       1.0|\n",
      "+-----+----------+\n",
      "only showing top 20 rows\n",
      "\n"
     ]
    }
   ],
   "source": [
    "# Prediction with train set\n",
    "\n",
    "train_prediction_df = (\n",
    "    fitted_logistic_regr_model\n",
    "    .transform(train)\n",
    "    .select(\"label\", \"prediction\")\n",
    ")\n",
    "\n",
    "train_prediction_df.show()"
   ]
  },
  {
   "cell_type": "code",
   "execution_count": 49,
   "metadata": {},
   "outputs": [
    {
     "name": "stdout",
     "output_type": "stream",
     "text": [
      "+-----+----------+\n",
      "|label|prediction|\n",
      "+-----+----------+\n",
      "|  0.0|       0.0|\n",
      "|  0.0|       0.0|\n",
      "|  0.0|       0.0|\n",
      "|  0.0|       1.0|\n",
      "|  1.0|       0.0|\n",
      "|  1.0|       0.0|\n",
      "|  1.0|       0.0|\n",
      "|  1.0|       0.0|\n",
      "|  1.0|       1.0|\n",
      "|  1.0|       1.0|\n",
      "|  0.0|       0.0|\n",
      "|  0.0|       0.0|\n",
      "|  0.0|       0.0|\n",
      "|  0.0|       0.0|\n",
      "|  1.0|       1.0|\n",
      "|  1.0|       1.0|\n",
      "|  1.0|       1.0|\n",
      "|  1.0|       1.0|\n",
      "|  1.0|       1.0|\n",
      "+-----+----------+\n",
      "\n"
     ]
    }
   ],
   "source": [
    "# Prediction with test set\n",
    "\n",
    "test_prediction_df = (\n",
    "    fitted_logistic_regr_model\n",
    "    .transform(test)\n",
    "    .select(\"label\", \"prediction\")\n",
    ")\n",
    "\n",
    "test_prediction_df.show()"
   ]
  },
  {
   "attachments": {},
   "cell_type": "markdown",
   "metadata": {},
   "source": [
    "Express errors as percent of correct answers when compared to the total numbers of samples."
   ]
  },
  {
   "attachments": {},
   "cell_type": "markdown",
   "metadata": {},
   "source": [
    "---> Training set"
   ]
  },
  {
   "cell_type": "code",
   "execution_count": 58,
   "metadata": {},
   "outputs": [
    {
     "name": "stdout",
     "output_type": "stream",
     "text": [
      "Incorrect count: 15\n"
     ]
    }
   ],
   "source": [
    "# Incorrect predictions\n",
    "wrong_cnt = (\n",
    "    train_prediction_df\n",
    "    .selectExpr(\"(label == prediction) as wrong\")\n",
    "    .filter(\"wrong == false\")\n",
    "    .count()\n",
    ")\n",
    "\n",
    "print(f\"Incorrect count: {wrong_cnt}\")"
   ]
  },
  {
   "cell_type": "code",
   "execution_count": 60,
   "metadata": {},
   "outputs": [
    {
     "name": "stdout",
     "output_type": "stream",
     "text": [
      "Correct count: 76\n"
     ]
    }
   ],
   "source": [
    "# Correct predications\n",
    "corr_cnt = (\n",
    "    train_prediction_df\n",
    "    .selectExpr(\"(label == prediction) as correct\")\n",
    "    .filter(\"correct == true\")\n",
    "    .count()\n",
    ")\n",
    "\n",
    "print(f\"Correct count: {corr_cnt}\")"
   ]
  },
  {
   "cell_type": "code",
   "execution_count": 61,
   "metadata": {},
   "outputs": [
    {
     "name": "stdout",
     "output_type": "stream",
     "text": [
      "Sample size: 110\n"
     ]
    }
   ],
   "source": [
    "# total number dataset\n",
    "\n",
    "total_sample = prepared_df.count()\n",
    "\n",
    "print(f\"Sample size: {total_sample}\")"
   ]
  },
  {
   "cell_type": "code",
   "execution_count": 78,
   "metadata": {},
   "outputs": [
    {
     "name": "stdout",
     "output_type": "stream",
     "text": [
      "percentage: 0.20 error rate in 110 sample size\n"
     ]
    }
   ],
   "source": [
    "# percentage of incorrect predictions compared to sample size\n",
    "\n",
    "print(\n",
    "    f\"percentage: %.2f error rate in {total_sample} sample size\" % (wrong_cnt / corr_cnt)\n",
    ")"
   ]
  },
  {
   "attachments": {},
   "cell_type": "markdown",
   "metadata": {},
   "source": [
    "---> Testing set"
   ]
  },
  {
   "cell_type": "code",
   "execution_count": 82,
   "metadata": {},
   "outputs": [
    {
     "name": "stdout",
     "output_type": "stream",
     "text": [
      "Incorrect count: 5\n"
     ]
    }
   ],
   "source": [
    "# Incorrect predictions\n",
    "test_wrong_cnt = (\n",
    "    test_prediction_df\n",
    "    .selectExpr(\"(label == prediction) as wrong\")\n",
    "    .filter(\"wrong == false\")\n",
    "    .count()\n",
    ")\n",
    "\n",
    "print(f\"Incorrect count: {test_wrong_cnt}\")"
   ]
  },
  {
   "cell_type": "code",
   "execution_count": 81,
   "metadata": {},
   "outputs": [
    {
     "name": "stdout",
     "output_type": "stream",
     "text": [
      "Correct count: 14\n"
     ]
    }
   ],
   "source": [
    "# Correct predications\n",
    "test_corr_cnt = (\n",
    "    test_prediction_df\n",
    "    .selectExpr(\"(label == prediction) as correct\")\n",
    "    .filter(\"correct == true\")\n",
    "    .count()\n",
    ")\n",
    "\n",
    "print(f\"Correct count: {test_corr_cnt}\")"
   ]
  },
  {
   "cell_type": "code",
   "execution_count": 83,
   "metadata": {},
   "outputs": [
    {
     "name": "stdout",
     "output_type": "stream",
     "text": [
      "percentage: 0.36 error rate in 110 sample size\n"
     ]
    }
   ],
   "source": [
    "# percentage of incorrect predictions compared to sample size\n",
    "\n",
    "print(\n",
    "    f\"percentage: %.2f error rate in {total_sample} sample size\" % (test_wrong_cnt / test_corr_cnt)\n",
    ")"
   ]
  },
  {
   "cell_type": "code",
   "execution_count": 98,
   "metadata": {},
   "outputs": [
    {
     "name": "stdout",
     "output_type": "stream",
     "text": [
      "0.9023668639053255\n"
     ]
    }
   ],
   "source": [
    "# Area under ROC\n",
    "\n",
    "print(fitted_logistic_regr_model.summary.areaUnderROC)"
   ]
  },
  {
   "cell_type": "code",
   "execution_count": 99,
   "metadata": {},
   "outputs": [
    {
     "name": "stdout",
     "output_type": "stream",
     "text": [
      "+-------------------+-------------------+\n",
      "|                FPR|                TPR|\n",
      "+-------------------+-------------------+\n",
      "|                0.0|                0.0|\n",
      "|                0.0|0.20512820512820512|\n",
      "|                0.0| 0.4358974358974359|\n",
      "|0.17307692307692307| 0.4358974358974359|\n",
      "|0.17307692307692307| 0.6666666666666666|\n",
      "|0.17307692307692307| 0.8461538461538461|\n",
      "|0.17307692307692307|                1.0|\n",
      "| 0.3269230769230769|                1.0|\n",
      "| 0.4807692307692308|                1.0|\n",
      "| 0.6730769230769231|                1.0|\n",
      "| 0.8653846153846154|                1.0|\n",
      "|                1.0|                1.0|\n",
      "|                1.0|                1.0|\n",
      "+-------------------+-------------------+\n",
      "\n"
     ]
    }
   ],
   "source": [
    "# ROC\n",
    "\n",
    "fitted_logistic_regr_model.summary.roc.show()"
   ]
  },
  {
   "cell_type": "code",
   "execution_count": 100,
   "metadata": {},
   "outputs": [
    {
     "name": "stdout",
     "output_type": "stream",
     "text": [
      "+-------------------+-------------------+\n",
      "|             recall|          precision|\n",
      "+-------------------+-------------------+\n",
      "|                0.0|                1.0|\n",
      "|0.20512820512820512|                1.0|\n",
      "| 0.4358974358974359|                1.0|\n",
      "| 0.4358974358974359| 0.6538461538461539|\n",
      "| 0.6666666666666666| 0.7428571428571429|\n",
      "| 0.8461538461538461| 0.7857142857142857|\n",
      "|                1.0|             0.8125|\n",
      "|                1.0| 0.6964285714285714|\n",
      "|                1.0|           0.609375|\n",
      "|                1.0|  0.527027027027027|\n",
      "|                1.0| 0.4642857142857143|\n",
      "|                1.0|0.42857142857142855|\n",
      "+-------------------+-------------------+\n",
      "\n"
     ]
    }
   ],
   "source": [
    "# Precicion Recal curve\n",
    "\n",
    "fitted_logistic_regr_model.summary.pr.show()"
   ]
  },
  {
   "attachments": {},
   "cell_type": "markdown",
   "metadata": {},
   "source": [
    "# Problem 2. \n",
    "\n",
    "Attached file auto_mpg_original.csv contains a set of data on automobile characteristics and fuel consumption. File auto_mpg_description.csv contains the description of the data.  Import data into Spark. Randomly select 20% of your data for testing and use the remaining data for training. Find all null values in all numerical columns. Write an Estimator that will replace nulls, if any, with average values for respective column."
   ]
  },
  {
   "cell_type": "code",
   "execution_count": 101,
   "metadata": {},
   "outputs": [],
   "source": [
    "# Create schema for DF\n",
    "from pyspark.sql.types import StructField, StructType, StringType, IntegerType\n",
    "\n",
    "schema = StructType ([\n",
    "    StructField(\"mpg\", IntegerType(), True),\n",
    "    StructField(\"cylinders\", IntegerType(), True),\n",
    "    StructField(\"displacement\", IntegerType(), True),\n",
    "    StructField(\"horsepower\", IntegerType(), True),\n",
    "    StructField(\"weight\", IntegerType(), True),\n",
    "    StructField(\"acceleration\", IntegerType(), True),\n",
    "    StructField(\"model year\", IntegerType(), True),\n",
    "    StructField(\"origin\", IntegerType(), True),\n",
    "    StructField(\"car name\", StringType(), True),\n",
    "])\n",
    "\n",
    "auto_df = (\n",
    "    spark.read\n",
    "    .option(\"inferSchema\", False)\n",
    "    .option(\"header\", False)\n",
    "    .schema(schema=schema)\n",
    "    .csv(\"./data/auto_mpg_original.csv\")\n",
    ")"
   ]
  },
  {
   "attachments": {},
   "cell_type": "markdown",
   "metadata": {},
   "source": [
    "Exploratory Data Analysis"
   ]
  },
  {
   "cell_type": "code",
   "execution_count": 102,
   "metadata": {},
   "outputs": [
    {
     "name": "stdout",
     "output_type": "stream",
     "text": [
      "+---+---------+------------+----------+------+------------+----------+------+---------+\n",
      "|mpg|cylinders|displacement|horsepower|weight|acceleration|model year|origin| car name|\n",
      "+---+---------+------------+----------+------+------------+----------+------+---------+\n",
      "| 18|        8|         307|       130|  3504|          12|        70|     1|chevrolet|\n",
      "| 15|        8|         350|       165|  3693|        null|        70|     1|    buick|\n",
      "| 18|        8|         318|       150|  3436|          11|        70|     1| plymouth|\n",
      "| 16|        8|         304|       150|  3433|          12|        70|     1|      amc|\n",
      "| 17|        8|         302|       140|  3449|        null|        70|     1|     ford|\n",
      "| 15|        8|         429|       198|  4341|          10|        70|     1|     ford|\n",
      "| 14|        8|         454|       220|  4354|           9|        70|     1|chevrolet|\n",
      "| 14|        8|         440|       215|  4312|        null|        70|     1| plymouth|\n",
      "| 14|        8|         455|       225|  4425|          10|        70|     1|  pontiac|\n",
      "| 15|        8|         390|       190|  3850|        null|        70|     1|      amc|\n",
      "| 26|        4|         133|       115|  3090|        null|        70|     2|  citroen|\n",
      "| 19|        8|         350|       165|  4142|        null|        70|     1|chevrolet|\n",
      "| 27|        8|         351|       153|  4034|          11|        70|     1|     ford|\n",
      "| 28|        8|         383|       175|  4166|        null|        70|     1| plymouth|\n",
      "| 25|        8|         360|       175|  3850|          11|        70|     1|      amc|\n",
      "| 15|        8|         383|       170|  3563|          10|        70|     1|    dodge|\n",
      "| 14|        8|         340|       160|  3609|           8|        70|     1| plymouth|\n",
      "| 16|        8|         302|       140|  3353|           8|        70|     1|     ford|\n",
      "| 15|        8|         400|       150|  3761|        null|        70|     1|chevrolet|\n",
      "| 14|        8|         455|       225|  3086|          10|        70|     1|    buick|\n",
      "+---+---------+------------+----------+------+------------+----------+------+---------+\n",
      "only showing top 20 rows\n",
      "\n"
     ]
    }
   ],
   "source": [
    "# Show data\n",
    "\n",
    "auto_df.show()"
   ]
  },
  {
   "cell_type": "code",
   "execution_count": 104,
   "metadata": {},
   "outputs": [
    {
     "data": {
      "text/plain": [
       "406"
      ]
     },
     "execution_count": 104,
     "metadata": {},
     "output_type": "execute_result"
    }
   ],
   "source": [
    "# count of all records\n",
    "\n",
    "auto_df.count()"
   ]
  },
  {
   "attachments": {},
   "cell_type": "markdown",
   "metadata": {},
   "source": [
    "```bash \n",
    "# Confirm number of rows in csv\n",
    "(BDA2023) manny@LAPTOP-85L1BUVJ:~/dev/cscie-63/hw10_sparl_ML$ cat ./data/auto_mpg_original.csv | wc -l\n",
    "406\n",
    "```"
   ]
  },
  {
   "cell_type": "code",
   "execution_count": 103,
   "metadata": {},
   "outputs": [
    {
     "name": "stdout",
     "output_type": "stream",
     "text": [
      "+---------+\n",
      "| car name|\n",
      "+---------+\n",
      "|    buick|\n",
      "|  pontiac|\n",
      "| mercedes|\n",
      "|   toyota|\n",
      "|     saab|\n",
      "|      amc|\n",
      "|       vw|\n",
      "|  peugeot|\n",
      "| chrysler|\n",
      "| plymouth|\n",
      "|vokswagen|\n",
      "|  citroen|\n",
      "|    chevy|\n",
      "|     audi|\n",
      "|   datsun|\n",
      "|      bmw|\n",
      "|    dodge|\n",
      "|     ford|\n",
      "|  toyouta|\n",
      "|    capri|\n",
      "+---------+\n",
      "only showing top 20 rows\n",
      "\n"
     ]
    }
   ],
   "source": [
    "# distinct car by make\n",
    "\n",
    "auto_df.select(\"car name\").distinct().show()"
   ]
  },
  {
   "cell_type": "code",
   "execution_count": 110,
   "metadata": {},
   "outputs": [
    {
     "name": "stdout",
     "output_type": "stream",
     "text": [
      "+---+---------+------------+----------+------+------------+----------+------+--------+\n",
      "|mpg|cylinders|displacement|horsepower|weight|acceleration|model year|origin|car name|\n",
      "+---+---------+------------+----------+------+------------+----------+------+--------+\n",
      "|140|        0|           1|         1|     0|         282|         0|     0|       0|\n",
      "+---+---------+------------+----------+------+------------+----------+------+--------+\n",
      "\n"
     ]
    }
   ],
   "source": [
    "# Count null, none, NaN in all columns of dataframe\n",
    "from pyspark.sql.functions import col, isnan, when, count\n",
    "\n",
    "# Null count\n",
    "auto_df.select(\n",
    "    [count(when(col(c).isNull(), c))\n",
    "     .alias(c) for c in auto_df.columns]\n",
    "    ).show()"
   ]
  },
  {
   "cell_type": "code",
   "execution_count": 111,
   "metadata": {},
   "outputs": [
    {
     "name": "stdout",
     "output_type": "stream",
     "text": [
      "+---+---------+------------+----------+------+------------+----------+------+--------+\n",
      "|mpg|cylinders|displacement|horsepower|weight|acceleration|model year|origin|car name|\n",
      "+---+---------+------------+----------+------+------------+----------+------+--------+\n",
      "|  0|        0|           0|         0|     0|           0|         0|     0|       0|\n",
      "+---+---------+------------+----------+------+------------+----------+------+--------+\n",
      "\n"
     ]
    }
   ],
   "source": [
    "# NaN check\n",
    "auto_df.select(\n",
    "    [count(when(isnan(c), c))\n",
    "     .alias(c) for c in auto_df.columns]\n",
    "    ).show()"
   ]
  },
  {
   "cell_type": "code",
   "execution_count": 133,
   "metadata": {},
   "outputs": [
    {
     "name": "stdout",
     "output_type": "stream",
     "text": [
      "['mpg', 'cylinders', 'displacement', 'horsepower', 'weight', 'acceleration', 'model year', 'origin']\n"
     ]
    }
   ],
   "source": [
    "# get columns\n",
    "num_cols = auto_df.columns[:8]\n",
    "\n",
    "print(num_cols)"
   ]
  },
  {
   "cell_type": "code",
   "execution_count": 134,
   "metadata": {},
   "outputs": [
    {
     "name": "stdout",
     "output_type": "stream",
     "text": [
      "+---+---------+------------+----------+------+------------+----------+------+---------+-----------+-----------------+--------------------+------------------+--------------+--------------------+------------------+--------------+\n",
      "|mpg|cylinders|displacement|horsepower|weight|acceleration|model year|origin| car name|mpg_imputed|cylinders_imputed|displacement_imputed|horsepower_imputed|weight_imputed|acceleration_imputed|model year_imputed|origin_imputed|\n",
      "+---+---------+------------+----------+------+------------+----------+------+---------+-----------+-----------------+--------------------+------------------+--------------+--------------------+------------------+--------------+\n",
      "| 18|        8|         307|       130|  3504|          12|        70|     1|chevrolet|         18|                8|                 307|               130|          3504|                  12|                70|             1|\n",
      "| 15|        8|         350|       165|  3693|        null|        70|     1|    buick|         15|                8|                 350|               165|          3693|                  15|                70|             1|\n",
      "| 18|        8|         318|       150|  3436|          11|        70|     1| plymouth|         18|                8|                 318|               150|          3436|                  11|                70|             1|\n",
      "| 16|        8|         304|       150|  3433|          12|        70|     1|      amc|         16|                8|                 304|               150|          3433|                  12|                70|             1|\n",
      "| 17|        8|         302|       140|  3449|        null|        70|     1|     ford|         17|                8|                 302|               140|          3449|                  15|                70|             1|\n",
      "+---+---------+------------+----------+------+------------+----------+------+---------+-----------+-----------------+--------------------+------------------+--------------+--------------------+------------------+--------------+\n",
      "only showing top 5 rows\n",
      "\n"
     ]
    }
   ],
   "source": [
    "# Use Imputer as transformer and fill null values with mean\n",
    "\n",
    "from pyspark.ml.feature import Imputer\n",
    "\n",
    "output_cols = [\"{}_imputed\".format(c) for c in num_cols]\n",
    "\n",
    "imputer = Imputer(\n",
    "    inputCols=num_cols,\n",
    "    outputCols=output_cols,\n",
    "    strategy=\"mean\"\n",
    ")\n",
    "\n",
    "i_auto_df = imputer.fit(auto_df).transform(auto_df)\n",
    "\n",
    "i_auto_df.show(5)"
   ]
  },
  {
   "cell_type": "code",
   "execution_count": 142,
   "metadata": {},
   "outputs": [
    {
     "name": "stdout",
     "output_type": "stream",
     "text": [
      "+-----------+-----------------+--------------------+------------------+--------------+--------------------+------------------+--------------+\n",
      "|mpg_imputed|cylinders_imputed|displacement_imputed|horsepower_imputed|weight_imputed|acceleration_imputed|model year_imputed|origin_imputed|\n",
      "+-----------+-----------------+--------------------+------------------+--------------+--------------------+------------------+--------------+\n",
      "|         18|                8|                 307|               130|          3504|                  12|                70|             1|\n",
      "|         15|                8|                 350|               165|          3693|                  15|                70|             1|\n",
      "|         18|                8|                 318|               150|          3436|                  11|                70|             1|\n",
      "|         16|                8|                 304|               150|          3433|                  12|                70|             1|\n",
      "|         17|                8|                 302|               140|          3449|                  15|                70|             1|\n",
      "+-----------+-----------------+--------------------+------------------+--------------+--------------------+------------------+--------------+\n",
      "only showing top 5 rows\n",
      "\n"
     ]
    }
   ],
   "source": [
    "# Show only imputed columns\n",
    "imputed_cols = [c for c in i_auto_df.columns if c.endswith(\"imputed\")]\n",
    "\n",
    "i_auto_df.select(imputed_cols).show(5)"
   ]
  },
  {
   "attachments": {},
   "cell_type": "markdown",
   "metadata": {},
   "source": [
    "# Problem 3. \n",
    "\n",
    "Look initially at two variables in the data set from the previous problem: mpg  (miles per gallon) and the horsepower. Treat horsepower as a feature and mpg as the target variable (label). Use Spark ML linear regression to identify the model for the relationship. Use the test data to illustrate accuracy of the linear regression model and its ability to predict the relationship. Calculate two standard measures of model accuracy. Create a diagram using any technique of convenience to presents the model (straight line), and the original test data. Please label your axes and use different colors for original data and the predicted data."
   ]
  },
  {
   "cell_type": "code",
   "execution_count": 201,
   "metadata": {},
   "outputs": [
    {
     "name": "stdout",
     "output_type": "stream",
     "text": [
      "+---+---------+------------+----------+------+------------+----------+------+---------+-----------+-----------------+--------------------+------------------+--------------+--------------------+------------------+--------------+--------------------+\n",
      "|mpg|cylinders|displacement|horsepower|weight|acceleration|model year|origin| car name|mpg_imputed|cylinders_imputed|displacement_imputed|horsepower_imputed|weight_imputed|acceleration_imputed|model year_imputed|origin_imputed|            features|\n",
      "+---+---------+------------+----------+------+------------+----------+------+---------+-----------+-----------------+--------------------+------------------+--------------+--------------------+------------------+--------------+--------------------+\n",
      "| 18|        8|         307|       130|  3504|          12|        70|     1|chevrolet|         18|                8|                 307|               130|          3504|                  12|                70|             1|[18.0,8.0,307.0,1...|\n",
      "| 15|        8|         350|       165|  3693|        null|        70|     1|    buick|         15|                8|                 350|               165|          3693|                  15|                70|             1|[15.0,8.0,350.0,1...|\n",
      "| 18|        8|         318|       150|  3436|          11|        70|     1| plymouth|         18|                8|                 318|               150|          3436|                  11|                70|             1|[18.0,8.0,318.0,1...|\n",
      "| 16|        8|         304|       150|  3433|          12|        70|     1|      amc|         16|                8|                 304|               150|          3433|                  12|                70|             1|[16.0,8.0,304.0,1...|\n",
      "| 17|        8|         302|       140|  3449|        null|        70|     1|     ford|         17|                8|                 302|               140|          3449|                  15|                70|             1|[17.0,8.0,302.0,1...|\n",
      "+---+---------+------------+----------+------+------------+----------+------+---------+-----------+-----------------+--------------------+------------------+--------------+--------------------+------------------+--------------+--------------------+\n",
      "only showing top 5 rows\n",
      "\n"
     ]
    }
   ],
   "source": [
    "# VectorAssembler to transform model for training\n",
    "from pyspark.ml.feature import VectorAssembler\n",
    "\n",
    "vector_asmblr = VectorAssembler(inputCols=imputed_cols, outputCol=\"features\")\n",
    "\n",
    "v_auto_df = vector_asmblr.transform(i_auto_df)\n",
    "\n",
    "v_auto_df.show(5)"
   ]
  },
  {
   "cell_type": "code",
   "execution_count": 203,
   "metadata": {},
   "outputs": [
    {
     "name": "stdout",
     "output_type": "stream",
     "text": [
      "+-----------+------------------+--------------------+\n",
      "|mpg_imputed|horsepower_imputed|            features|\n",
      "+-----------+------------------+--------------------+\n",
      "|         18|               130|[18.0,8.0,307.0,1...|\n",
      "|         15|               165|[15.0,8.0,350.0,1...|\n",
      "|         18|               150|[18.0,8.0,318.0,1...|\n",
      "|         16|               150|[16.0,8.0,304.0,1...|\n",
      "|         17|               140|[17.0,8.0,302.0,1...|\n",
      "|         15|               198|[15.0,8.0,429.0,1...|\n",
      "|         14|               220|[14.0,8.0,454.0,2...|\n",
      "|         14|               215|[14.0,8.0,440.0,2...|\n",
      "|         14|               225|[14.0,8.0,455.0,2...|\n",
      "|         15|               190|[15.0,8.0,390.0,1...|\n",
      "|         26|               115|[26.0,4.0,133.0,1...|\n",
      "|         19|               165|[19.0,8.0,350.0,1...|\n",
      "|         27|               153|[27.0,8.0,351.0,1...|\n",
      "|         28|               175|[28.0,8.0,383.0,1...|\n",
      "|         25|               175|[25.0,8.0,360.0,1...|\n",
      "|         15|               170|[15.0,8.0,383.0,1...|\n",
      "|         14|               160|[14.0,8.0,340.0,1...|\n",
      "|         16|               140|[16.0,8.0,302.0,1...|\n",
      "|         15|               150|[15.0,8.0,400.0,1...|\n",
      "|         14|               225|[14.0,8.0,455.0,2...|\n",
      "+-----------+------------------+--------------------+\n",
      "only showing top 20 rows\n",
      "\n"
     ]
    }
   ],
   "source": [
    "# select columns for training\n",
    "\n",
    "v_mpg_hp_df = v_auto_df.select([\"mpg_imputed\", \"horsepower_imputed\", \"features\"])\n",
    "\n",
    "v_mpg_hp_df.show()"
   ]
  },
  {
   "cell_type": "code",
   "execution_count": 204,
   "metadata": {},
   "outputs": [],
   "source": [
    "# Split the dataset 20% for testing and 80% for training\n",
    "\n",
    "splits = v_mpg_hp_df.randomSplit([0.8, 0.2])\n",
    "\n",
    "train_df = splits[0]\n",
    "test_df = splits[1]"
   ]
  },
  {
   "cell_type": "code",
   "execution_count": 207,
   "metadata": {},
   "outputs": [
    {
     "name": "stdout",
     "output_type": "stream",
     "text": [
      "+-----------+------------------+-------------------------------------------+\n",
      "|mpg_imputed|horsepower_imputed|features                                   |\n",
      "+-----------+------------------+-------------------------------------------+\n",
      "|10         |200               |[10.0,8.0,307.0,200.0,4376.0,15.0,70.0,1.0]|\n",
      "|10         |215               |[10.0,8.0,360.0,215.0,4615.0,14.0,70.0,1.0]|\n",
      "|11         |210               |[11.0,8.0,318.0,210.0,4382.0,15.0,70.0,1.0]|\n",
      "|12         |160               |[12.0,8.0,350.0,160.0,4456.0,15.0,72.0,1.0]|\n",
      "|12         |167               |[12.0,8.0,400.0,167.0,4906.0,15.0,73.0,1.0]|\n",
      "+-----------+------------------+-------------------------------------------+\n",
      "only showing top 5 rows\n",
      "\n"
     ]
    }
   ],
   "source": [
    "# Training data\n",
    "\n",
    "train_df.show(5, False)"
   ]
  },
  {
   "cell_type": "code",
   "execution_count": 208,
   "metadata": {},
   "outputs": [
    {
     "name": "stdout",
     "output_type": "stream",
     "text": [
      "+-----------+------------------+-------------------------------------------+\n",
      "|mpg_imputed|horsepower_imputed|features                                   |\n",
      "+-----------+------------------+-------------------------------------------+\n",
      "|9          |193               |[9.0,8.0,304.0,193.0,4732.0,15.0,70.0,1.0] |\n",
      "|11         |150               |[11.0,8.0,400.0,150.0,4997.0,14.0,73.0,1.0]|\n",
      "|11         |180               |[11.0,8.0,350.0,180.0,3664.0,11.0,73.0,1.0]|\n",
      "|11         |208               |[11.0,8.0,429.0,208.0,4633.0,11.0,72.0,1.0]|\n",
      "|12         |225               |[12.0,8.0,455.0,225.0,4951.0,11.0,73.0,1.0]|\n",
      "+-----------+------------------+-------------------------------------------+\n",
      "only showing top 5 rows\n",
      "\n"
     ]
    }
   ],
   "source": [
    "# Testing data\n",
    "test_df.show(5, False)"
   ]
  },
  {
   "cell_type": "code",
   "execution_count": 210,
   "metadata": {},
   "outputs": [
    {
     "name": "stdout",
     "output_type": "stream",
     "text": [
      "Coefficients: [1.0000000000000016,4.3323909353699874e-14,-1.6569210397435787e-15,7.73463128862864e-16,5.849309233204158e-17,1.1072331678973232e-14,-1.8355335626351814e-14,-1.972575627495115e-14]\n",
      "Intercept: 1.0542032102911864e-12\n"
     ]
    }
   ],
   "source": [
    "# Setup linear regression for relationship between mpg and horsepower\n",
    "from pyspark.ml.regression import LinearRegression\n",
    "\n",
    "linear_regr = LinearRegression(featuresCol=\"features\", labelCol=\"mpg_imputed\")\n",
    "\n",
    "linear_regr_model = linear_regr.fit(train_df)\n",
    "\n",
    "print(\"Coefficients: \" + str(linear_regr_model.coefficients))\n",
    "print(\"Intercept: \" + str(linear_regr_model.intercept))"
   ]
  },
  {
   "attachments": {},
   "cell_type": "markdown",
   "metadata": {},
   "source": [
    "Use the test data to illustrate accuracy of the linear regression model and its ability to predict the relationship."
   ]
  },
  {
   "cell_type": "code",
   "execution_count": 211,
   "metadata": {},
   "outputs": [
    {
     "name": "stdout",
     "output_type": "stream",
     "text": [
      "+-----------+-----------+-------------------------------------------+\n",
      "|predictions|mpg_imputed|features                                   |\n",
      "+-----------+-----------+-------------------------------------------+\n",
      "|9.0        |9          |[9.0,8.0,304.0,193.0,4732.0,15.0,70.0,1.0] |\n",
      "|11.0       |11         |[11.0,8.0,400.0,150.0,4997.0,14.0,73.0,1.0]|\n",
      "|11.0       |11         |[11.0,8.0,350.0,180.0,3664.0,11.0,73.0,1.0]|\n",
      "|11.0       |11         |[11.0,8.0,429.0,208.0,4633.0,11.0,72.0,1.0]|\n",
      "|12.0       |12         |[12.0,8.0,455.0,225.0,4951.0,11.0,73.0,1.0]|\n",
      "|13.0       |13         |[13.0,8.0,302.0,129.0,3169.0,12.0,75.0,1.0]|\n",
      "|13.0       |13         |[13.0,8.0,302.0,140.0,4294.0,16.0,72.0,1.0]|\n",
      "|13.0       |13         |[13.0,8.0,350.0,145.0,4055.0,12.0,76.0,1.0]|\n",
      "|13.0       |13         |[13.0,8.0,350.0,150.0,4699.0,15.0,74.0,1.0]|\n",
      "|13.0       |13         |[13.0,8.0,350.0,165.0,4274.0,12.0,72.0,1.0]|\n",
      "+-----------+-----------+-------------------------------------------+\n",
      "only showing top 10 rows\n",
      "\n"
     ]
    }
   ],
   "source": [
    "# Predictions with test data\n",
    "\n",
    "from pyspark.sql.functions import round\n",
    "\n",
    "lr_predictions = linear_regr_model.transform(test_df)\n",
    "prediction_res = lr_predictions.select(round(\"prediction\").alias(\"predictions\"), \"mpg_imputed\", \"features\")\n",
    "\n",
    "prediction_res.show(10, False)"
   ]
  },
  {
   "attachments": {},
   "cell_type": "markdown",
   "metadata": {},
   "source": [
    "Calculate two standard measures of model accuracy."
   ]
  },
  {
   "cell_type": "code",
   "execution_count": 212,
   "metadata": {},
   "outputs": [
    {
     "name": "stdout",
     "output_type": "stream",
     "text": [
      "R Squared (R2) on test data = 1\n"
     ]
    }
   ],
   "source": [
    "# Linear regregression evaluator r2\n",
    "\n",
    "from pyspark.ml.evaluation import RegressionEvaluator\n",
    "\n",
    "lr_eval_r2 = RegressionEvaluator(predictionCol=\"predictions\", \n",
    "                              labelCol=\"mpg_imputed\",\n",
    "                              metricName=\"r2\")\n",
    "\n",
    "print(\"R Squared (R2) on test data = %g\" % lr_eval_r2.evaluate(prediction_res))"
   ]
  },
  {
   "cell_type": "code",
   "execution_count": 213,
   "metadata": {},
   "outputs": [
    {
     "name": "stdout",
     "output_type": "stream",
     "text": [
      "Root Mean Squared Error (RMSE) on test data = 0\n"
     ]
    }
   ],
   "source": [
    "# Linear regregression evaluator Root Mean Squared Erro (RMSE)\n",
    "\n",
    "from pyspark.ml.evaluation import RegressionEvaluator\n",
    "\n",
    "lr_eval_rmse = RegressionEvaluator(predictionCol=\"predictions\", \n",
    "                              labelCol=\"mpg_imputed\",\n",
    "                              metricName=\"rmse\")\n",
    "\n",
    "print(\"Root Mean Squared Error (RMSE) on test data = %g\" % lr_eval_rmse.evaluate(prediction_res))"
   ]
  },
  {
   "cell_type": "code",
   "execution_count": 214,
   "metadata": {},
   "outputs": [
    {
     "name": "stdout",
     "output_type": "stream",
     "text": [
      "+-------+-----------------+------------------+\n",
      "|summary|      mpg_imputed|horsepower_imputed|\n",
      "+-------+-----------------+------------------+\n",
      "|  count|              318|               318|\n",
      "|   mean|21.70754716981132|104.35220125786164|\n",
      "| stddev|5.817357332206395| 37.77580190611737|\n",
      "|    min|               10|                46|\n",
      "|    max|               44|               230|\n",
      "+-------+-----------------+------------------+\n",
      "\n"
     ]
    }
   ],
   "source": [
    "train_df.describe().show()"
   ]
  },
  {
   "attachments": {},
   "cell_type": "markdown",
   "metadata": {},
   "source": [
    "Create a diagram using any technique of convenience to presents the model (straight line), and the original test data. Please label your axes and use different colors for original data and the predicted data."
   ]
  },
  {
   "cell_type": "code",
   "execution_count": null,
   "metadata": {},
   "outputs": [],
   "source": [
    "from sklearn import preprocessing\n",
    "import pandas as pd\n",
    "import matplotlib.pyplot as plt\n",
    "import seaborn as sns\n",
    "\n",
    "min_max_scaler = preprocessing.MinMaxScaler()\n",
    "_columns = [\"mpg_imputed\", \"predictions\"]\n",
    "x = prediction_res.columns[1]\n",
    "y = prediction_res.columns[0]\n",
    "\n",
    "x = pd.DataFrame(data=min_max_scaler.fit_transform(x), columns=_columns)\n",
    "\n",
    "fig, axs = plt.subplots(ncols=4, nrows=2, figsize=(20, 10))\n",
    "\n",
    "index = 0\n",
    "axs = axs.flatten()\n",
    "\n",
    "for i, k in enumerate(_columns):\n",
    "    sns.regplot(y=y, x=x[k], ax=axs[i],scatter_kws={\"s\": 60} )\n",
    "plt.tight_layout(pad=0.4, w_pad=0.5, h_pad=5.0)"
   ]
  },
  {
   "attachments": {},
   "cell_type": "markdown",
   "metadata": {},
   "source": [
    "# Problem 4. \n",
    "\n",
    "Consider the data in auto_mpg_original.csv. Usually, we are interested in miles per gallon (mpg) and would like to be able to predict that quantity based on other features.  Use Linear Regression to make the predictions. Assess accuracy of your model. Identify the most important feature. "
   ]
  },
  {
   "attachments": {},
   "cell_type": "markdown",
   "metadata": {},
   "source": [
    "Already covered this in problem 3 so i will make another transformation here for horsepower as feature."
   ]
  },
  {
   "cell_type": "code",
   "execution_count": 231,
   "metadata": {},
   "outputs": [],
   "source": [
    "# new df with only mpg and horsepower\n",
    "\n",
    "mpg_hp_df = i_auto_df.selectExpr(\n",
    "    \"mpg_imputed as mpg\",\n",
    "    \"horsepower_imputed as horsepower\"\n",
    "    )"
   ]
  },
  {
   "cell_type": "code",
   "execution_count": 234,
   "metadata": {},
   "outputs": [],
   "source": [
    "# Use RFormula to transform\n",
    "\n",
    "from pyspark.ml.feature import RFormula\n",
    "supervised = RFormula(formula=\"mpg ~ .\")"
   ]
  },
  {
   "cell_type": "code",
   "execution_count": 235,
   "metadata": {},
   "outputs": [],
   "source": [
    "# fit\n",
    "\n",
    "fitted_mpg_hp_df = supervised.fit(mpg_hp_df)"
   ]
  },
  {
   "cell_type": "code",
   "execution_count": 236,
   "metadata": {},
   "outputs": [
    {
     "name": "stdout",
     "output_type": "stream",
     "text": [
      "+---+----------+--------+-----+\n",
      "|mpg|horsepower|features|label|\n",
      "+---+----------+--------+-----+\n",
      "|18 |130       |[130.0] |18.0 |\n",
      "|15 |165       |[165.0] |15.0 |\n",
      "|18 |150       |[150.0] |18.0 |\n",
      "|16 |150       |[150.0] |16.0 |\n",
      "|17 |140       |[140.0] |17.0 |\n",
      "|15 |198       |[198.0] |15.0 |\n",
      "|14 |220       |[220.0] |14.0 |\n",
      "|14 |215       |[215.0] |14.0 |\n",
      "|14 |225       |[225.0] |14.0 |\n",
      "|15 |190       |[190.0] |15.0 |\n",
      "+---+----------+--------+-----+\n",
      "only showing top 10 rows\n",
      "\n"
     ]
    }
   ],
   "source": [
    "prep_mpg_hp_df = fitted_mpg_hp_df.transform(mpg_hp_df)\n",
    "\n",
    "prep_mpg_hp_df.show(10, False)"
   ]
  },
  {
   "cell_type": "code",
   "execution_count": 240,
   "metadata": {},
   "outputs": [],
   "source": [
    "# test and train data \n",
    "\n",
    "test_II, train_II = prep_mpg_hp_df.randomSplit([0.2, 0.8])"
   ]
  },
  {
   "cell_type": "code",
   "execution_count": 241,
   "metadata": {},
   "outputs": [
    {
     "name": "stdout",
     "output_type": "stream",
     "text": [
      "Coefficients: [-0.1056907566444211]\n",
      "Intercept: 32.63070856012571\n"
     ]
    }
   ],
   "source": [
    "linear_regr_II = LinearRegression(featuresCol=\"features\", labelCol=\"mpg\")\n",
    "\n",
    "linear_regr_model_II = linear_regr_II.fit(train_II)\n",
    "\n",
    "print(\"Coefficients: \" + str(linear_regr_model_II.coefficients))\n",
    "print(\"Intercept: \" + str(linear_regr_model_II.intercept))"
   ]
  },
  {
   "cell_type": "code",
   "execution_count": 242,
   "metadata": {},
   "outputs": [
    {
     "name": "stdout",
     "output_type": "stream",
     "text": [
      "+-----------+-----------+-------------------------------------------+\n",
      "|predictions|mpg_imputed|features                                   |\n",
      "+-----------+-----------+-------------------------------------------+\n",
      "|9.0        |9          |[9.0,8.0,304.0,193.0,4732.0,15.0,70.0,1.0] |\n",
      "|11.0       |11         |[11.0,8.0,400.0,150.0,4997.0,14.0,73.0,1.0]|\n",
      "|11.0       |11         |[11.0,8.0,350.0,180.0,3664.0,11.0,73.0,1.0]|\n",
      "|11.0       |11         |[11.0,8.0,429.0,208.0,4633.0,11.0,72.0,1.0]|\n",
      "|12.0       |12         |[12.0,8.0,455.0,225.0,4951.0,11.0,73.0,1.0]|\n",
      "|13.0       |13         |[13.0,8.0,302.0,129.0,3169.0,12.0,75.0,1.0]|\n",
      "|13.0       |13         |[13.0,8.0,302.0,140.0,4294.0,16.0,72.0,1.0]|\n",
      "|13.0       |13         |[13.0,8.0,350.0,145.0,4055.0,12.0,76.0,1.0]|\n",
      "|13.0       |13         |[13.0,8.0,350.0,150.0,4699.0,15.0,74.0,1.0]|\n",
      "|13.0       |13         |[13.0,8.0,350.0,165.0,4274.0,12.0,72.0,1.0]|\n",
      "+-----------+-----------+-------------------------------------------+\n",
      "only showing top 10 rows\n",
      "\n"
     ]
    }
   ],
   "source": [
    "# Test predictions\n",
    "\n",
    "lr_predictions_II = linear_regr_model_II.transform(test_II)\n",
    "prediction_res_II = lr_predictions_II.select(round(\"prediction\").alias(\"predictions\"), \"mpg\", \"features\")\n",
    "\n",
    "prediction_res.show(10, False)"
   ]
  },
  {
   "cell_type": "code",
   "execution_count": 243,
   "metadata": {},
   "outputs": [
    {
     "name": "stdout",
     "output_type": "stream",
     "text": [
      "+-------+------------------+------------------+------------------+\n",
      "|summary|               mpg|        horsepower|             label|\n",
      "+-------+------------------+------------------+------------------+\n",
      "|  count|               327|               327|               327|\n",
      "|   mean|21.507645259938837|105.24159021406727|21.507645259938837|\n",
      "| stddev|  5.88221059580541| 37.68394209662769|  5.88221059580541|\n",
      "|    min|                 9|                48|               9.0|\n",
      "|    max|                44|               225|              44.0|\n",
      "+-------+------------------+------------------+------------------+\n",
      "\n"
     ]
    }
   ],
   "source": [
    "train_II.describe().show()"
   ]
  },
  {
   "cell_type": "code",
   "execution_count": 244,
   "metadata": {},
   "outputs": [
    {
     "name": "stdout",
     "output_type": "stream",
     "text": [
      "RMSE: 4.322043\n",
      "r2: 0.458464\n"
     ]
    }
   ],
   "source": [
    "trainingSummary_II = linear_regr_model_II.summary\n",
    "print(\"RMSE: %f\" % trainingSummary_II.rootMeanSquaredError)\n",
    "print(\"r2: %f\" % trainingSummary_II.r2)"
   ]
  },
  {
   "attachments": {},
   "cell_type": "markdown",
   "metadata": {},
   "source": [
    "# Problem 5. \n",
    "\n",
    "Repeat the previous analysis using Decision Tree Regression. Compare the precision of the Decision Tree Regression and Linear Regression. It is alright if DTR turns out worse than the Linear regression. Usually it is better. Decision Tree Regression model usually has featureImportance attribute. Please read the documentation and find out whether such attribute exists. If it does, tell us which are the most important features."
   ]
  },
  {
   "cell_type": "code",
   "execution_count": 245,
   "metadata": {},
   "outputs": [
    {
     "name": "stdout",
     "output_type": "stream",
     "text": [
      "Root Mean Squared Error (RMSE) on test data = 0.205069\n"
     ]
    }
   ],
   "source": [
    "# Decision Tree\n",
    "\n",
    "from pyspark.ml.regression import DecisionTreeRegressor\n",
    "\n",
    "dt = DecisionTreeRegressor(featuresCol=\"features\", labelCol=\"mpg_imputed\")\n",
    "\n",
    "dt_model = dt.fit(train_df)\n",
    "dt_predicts = dt_model.transform(test_df)\n",
    "\n",
    "dt_evals = RegressionEvaluator(\n",
    "     labelCol=\"mpg_imputed\", predictionCol=\"prediction\", metricName=\"rmse\"\n",
    ")\n",
    "\n",
    "# RMSE\n",
    "rmse = dt_evals.evaluate(dt_predicts)\n",
    "\n",
    "print(\"Root Mean Squared Error (RMSE) on test data = %g\" % rmse)"
   ]
  },
  {
   "cell_type": "code",
   "execution_count": 247,
   "metadata": {},
   "outputs": [
    {
     "name": "stdout",
     "output_type": "stream",
     "text": [
      "R Squared (r^2) on test data = 0.205069\n"
     ]
    }
   ],
   "source": [
    "# r2\n",
    "\n",
    "dt_evals_II = RegressionEvaluator(\n",
    "     labelCol=\"mpg_imputed\", predictionCol=\"prediction\", metricName=\"r2\"\n",
    ")\n",
    "\n",
    "r2 = dt_evals.evaluate(dt_predicts)\n",
    "\n",
    "print(\"R Squared (r^2) on test data = %g\" % r2)"
   ]
  },
  {
   "cell_type": "code",
   "execution_count": 252,
   "metadata": {},
   "outputs": [
    {
     "name": "stdout",
     "output_type": "stream",
     "text": [
      "+------------------+-----------+-----------+\n",
      "|horsepower_imputed|mpg_imputed|predictions|\n",
      "+------------------+-----------+-----------+\n",
      "|               193|          9|       10.0|\n",
      "|               150|         11|       10.0|\n",
      "|               180|         11|       10.0|\n",
      "|               208|         11|       10.0|\n",
      "|               225|         12|       12.0|\n",
      "|               129|         13|       13.0|\n",
      "|               140|         13|       13.0|\n",
      "|               145|         13|       13.0|\n",
      "|               150|         13|       13.0|\n",
      "|               165|         13|       13.0|\n",
      "+------------------+-----------+-----------+\n",
      "only showing top 10 rows\n",
      "\n"
     ]
    }
   ],
   "source": [
    "# Show Predictions\n",
    "\n",
    "dt_predicts.select(\"horsepower_imputed\", \"mpg_imputed\", round(\"prediction\").alias(\"predictions\")).show(10)"
   ]
  },
  {
   "cell_type": "code",
   "execution_count": 253,
   "metadata": {},
   "outputs": [
    {
     "data": {
      "text/plain": [
       "SparseVector(8, {0: 1.0})"
      ]
     },
     "execution_count": 253,
     "metadata": {},
     "output_type": "execute_result"
    }
   ],
   "source": [
    "# feature importance\n",
    "\n",
    "dt_model.featureImportances"
   ]
  }
 ],
 "metadata": {
  "kernelspec": {
   "display_name": "BDA2023",
   "language": "python",
   "name": "python3"
  },
  "language_info": {
   "codemirror_mode": {
    "name": "ipython",
    "version": 3
   },
   "file_extension": ".py",
   "mimetype": "text/x-python",
   "name": "python",
   "nbconvert_exporter": "python",
   "pygments_lexer": "ipython3",
   "version": "3.10.9"
  },
  "orig_nbformat": 4
 },
 "nbformat": 4,
 "nbformat_minor": 2
}
