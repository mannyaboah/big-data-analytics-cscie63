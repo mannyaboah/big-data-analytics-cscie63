{
 "cells": [
  {
   "attachments": {},
   "cell_type": "markdown",
   "metadata": {},
   "source": [
    "# HU Extension                     Assignment 03           E63 Big Data Analytics\n",
    "\n",
    "## Emmanuel Aboah\n",
    "\n",
    "### Issued on: Feb 10, 2023                          Due on Saturday by 12 noon EST, Feb 18, 2023"
   ]
  },
  {
   "attachments": {},
   "cell_type": "markdown",
   "metadata": {},
   "source": [
    "### Problem 1\n",
    "\n",
    "Preparation of your environment will take some of your time. Describe what you are doing in sufficient detail so that someone without previous experience could repeat your steps. Install 64 bit MySQL Community Edition Database, version 8.0.28 or close, following instructions in notes for lab 3. As root user of MySQL database create a new database user retailer. Grant to user retailer broad privileges so that it could create a database, create tables and other database objects. As user retailer create database ‘classicmodels’ using attached script: mysqlsampledatabase.sql. Database diagram for classicmodels database is attached as file MySQL-Sample-Databse-Diagram.pdf. Query and report the number of rows in database tables orderdetails and orders. "
   ]
  },
  {
   "attachments": {},
   "cell_type": "markdown",
   "metadata": {},
   "source": [
    "**MySql installation**\n",
    "\n",
    "I am using the latest mysql published docker image in a docker-compose.\n",
    "\n",
    "```yaml\n",
    "version: '3.3'\n",
    "services:\n",
    "  db:\n",
    "    image: mysql:latest\n",
    "    restart: always\n",
    "    environment:\n",
    "      MYSQL_DATABASE: 'db'\n",
    "      # So you don't have to use root, but you can if you like\n",
    "      MYSQL_USER: 'user'\n",
    "      # You can use whatever password you like\n",
    "      MYSQL_PASSWORD: 'password'\n",
    "      # Password for root access\n",
    "      MYSQL_ROOT_PASSWORD: 'password'\n",
    "    ports:\n",
    "      # <Port exposed> : < MySQL Port running inside container>\n",
    "      - '3306:3306'\n",
    "    expose:\n",
    "      # Opens port 3306 on the container\n",
    "      - '3306'\n",
    "      # Where our data will be persisted\n",
    "    volumes:\n",
    "      - my-db:/var/lib/mysql\n",
    "  # Names our volume\n",
    "volumes:\n",
    "  my-db:\n",
    "```"
   ]
  },
  {
   "attachments": {},
   "cell_type": "markdown",
   "metadata": {
    "vscode": {
     "languageId": "shellscript"
    }
   },
   "source": [
    "**MySql Version**\n",
    "\n",
    "```bash\n",
    "# command\n",
    "mysql -V\n",
    "\n",
    "# output\n",
    "mysql  Ver 8.0.32 for Linux on x86_64 (MySQL Community Server - GPL)\n",
    "```"
   ]
  },
  {
   "attachments": {},
   "cell_type": "markdown",
   "metadata": {},
   "source": [
    "**Create user and provide privileges**\n",
    "\n",
    "```bash\n",
    "# command\n",
    "create user 'retailer'@'localhost' identified by 'password';\n",
    "\n",
    "# output\n",
    "Query OK, 0 rows affected (0.07 sec)\n",
    "\n",
    "# command\n",
    "grant all privileges on *.* to 'retailer'@'localhost' with grant option;\n",
    "\n",
    "# output\n",
    "Query OK, 0 rows affected, 1 warning (0.02 sec)\n",
    "\n",
    "```"
   ]
  },
  {
   "attachments": {},
   "cell_type": "markdown",
   "metadata": {},
   "source": [
    "**Run script to create schema and data**\n",
    "\n",
    "```bash\n",
    "# command\n",
    "source root/mysqlsampledatabase.sql\n",
    "\n",
    "# output\n",
    "Query OK, 0 rows affected, 1 warning (0.00 sec)\n",
    "\n",
    "Query OK, 0 rows affected (0.00 sec)\n",
    "\n",
    "Query OK, 0 rows affected (0.00 sec)\n",
    "\n",
    "Query OK, 0 rows affected (0.00 sec)\n",
    "\n",
    "Query OK, 0 rows affected (0.00 sec)\n",
    "\n",
    "Query OK, 0 rows affected (0.00 sec)\n",
    "\n",
    "Query OK, 1 row affected (0.01 sec)\n",
    "\n",
    "Database changed\n",
    "Query OK, 0 rows affected (0.00 sec)\n",
    "\n",
    "Query OK, 0 rows affected, 2 warnings (0.06 sec)\n",
    "\n",
    "Query OK, 122 rows affected (0.03 sec)\n",
    "Records: 122  Duplicates: 0  Warnings: 0\n",
    "\n",
    "Query OK, 0 rows affected (0.00 sec)\n",
    "\n",
    "Query OK, 0 rows affected, 2 warnings (0.06 sec)\n",
    "\n",
    "Query OK, 23 rows affected (0.01 sec)\n",
    "Records: 23  Duplicates: 0  Warnings: 0\n",
    "\n",
    "Query OK, 0 rows affected (0.01 sec)\n",
    "\n",
    "Query OK, 0 rows affected (0.03 sec)\n",
    "\n",
    "Query OK, 7 rows affected (0.01 sec)\n",
    "Records: 7  Duplicates: 0  Warnings: 0\n",
    "\n",
    "Query OK, 0 rows affected (0.01 sec)\n",
    "\n",
    "Query OK, 0 rows affected, 3 warnings (0.03 sec)\n",
    "\n",
    "Query OK, 2996 rows affected (0.11 sec)\n",
    "Records: 2996  Duplicates: 0  Warnings: 0\n",
    "\n",
    "Query OK, 0 rows affected (0.01 sec)\n",
    "\n",
    "Query OK, 0 rows affected, 2 warnings (0.05 sec)\n",
    "\n",
    "Query OK, 326 rows affected (0.02 sec)\n",
    "Records: 326  Duplicates: 0  Warnings: 0\n",
    "\n",
    "Query OK, 0 rows affected (0.01 sec)\n",
    "\n",
    "Query OK, 0 rows affected, 1 warning (0.04 sec)\n",
    "\n",
    "Query OK, 273 rows affected (0.02 sec)\n",
    "Records: 273  Duplicates: 0  Warnings: 0\n",
    "\n",
    "Query OK, 0 rows affected (0.00 sec)\n",
    "\n",
    "Query OK, 0 rows affected (0.05 sec)\n",
    "\n",
    "Query OK, 7 rows affected (0.01 sec)\n",
    "Records: 7  Duplicates: 0  Warnings: 0\n",
    "\n",
    "Query OK, 0 rows affected (0.00 sec)\n",
    "\n",
    "Query OK, 0 rows affected, 1 warning (0.06 sec)\n",
    "\n",
    "Query OK, 110 rows affected (0.02 sec)\n",
    "Records: 110  Duplicates: 0  Warnings: 0\n",
    "\n",
    "Query OK, 0 rows affected (0.00 sec)\n",
    "\n",
    "Query OK, 0 rows affected (0.00 sec)\n",
    "\n",
    "Query OK, 0 rows affected (0.00 sec)\n",
    "\n",
    "Query OK, 0 rows affected (0.00 sec)\n",
    "\n",
    "# command\n",
    "commit;\n",
    "\n",
    "# output\n",
    "Query OK, 0 rows affected (0.00 sec)\n",
    "```"
   ]
  },
  {
   "attachments": {},
   "cell_type": "markdown",
   "metadata": {},
   "source": [
    "**Display Records**\n",
    "\n",
    "```bash\n",
    "# command\n",
    "show databases;\n",
    "\n",
    "# output\n",
    "+--------------------+\n",
    "| Database           |\n",
    "+--------------------+\n",
    "| classicmodels      |\n",
    "| db                 |\n",
    "| information_schema |\n",
    "| mysql              |\n",
    "| performance_schema |\n",
    "| sys                |\n",
    "+--------------------+\n",
    "\n",
    "# command\n",
    "use classicmodels;\n",
    "show tables;\n",
    "\n",
    "# output\n",
    "Database changed\n",
    "\n",
    "+-------------------------+\n",
    "| Tables_in_classicmodels |\n",
    "+-------------------------+\n",
    "| customers               |\n",
    "| employees               |\n",
    "| offices                 |\n",
    "| orderdetails            |\n",
    "| orders                  |\n",
    "| payments                |\n",
    "| productlines            |\n",
    "| products                |\n",
    "+-------------------------+\n",
    "\n",
    "# count rows in orderdetails\n",
    "select count(*) as num_rows from orderdetails;\n",
    "\n",
    "# output\n",
    "+----------+\n",
    "| num_rows |\n",
    "+----------+\n",
    "|     2996 |\n",
    "+----------+\n",
    "\n",
    "# count rows in orders\n",
    " select count(*) as num_rows from orders;\n",
    "\n",
    "# output\n",
    "+----------+\n",
    "| num_rows |\n",
    "+----------+\n",
    "|      326 |\n",
    "+----------+\n",
    "```"
   ]
  },
  {
   "attachments": {},
   "cell_type": "markdown",
   "metadata": {},
   "source": [
    "### Problem 2\n",
    "\n",
    "From file mysqlsampledatabase.sql using Notepad or Notepad++ or any other convenient text editor (but not MS Word) extract data for tables customer, orders and orderdetails. Format such data as csv files and load them into DataFrames customer, orders and orderdetails. Report on the number of rows you see in each table in MySQL database and in the corresponding DataFrames in Spark."
   ]
  },
  {
   "cell_type": "code",
   "execution_count": 1,
   "metadata": {
    "vscode": {
     "languageId": "python"
    }
   },
   "outputs": [],
   "source": [
    "# Import customer csv into dataframe\n",
    "\n",
    "# Imports\n",
    "from pyspark import SparkContext, SparkConf\n",
    "from pyspark.sql.functions import *\n",
    "from pyspark.sql import SparkSession\n",
    "from pyspark.sql.types import *\n",
    "import findspark\n",
    "\n",
    "findspark.init()"
   ]
  },
  {
   "cell_type": "code",
   "execution_count": 2,
   "metadata": {
    "vscode": {
     "languageId": "python"
    }
   },
   "outputs": [
    {
     "name": "stderr",
     "output_type": "stream",
     "text": [
      "your 131072x1 screen size is bogus. expect trouble\n"
     ]
    },
    {
     "name": "stdout",
     "output_type": "stream",
     "text": [
      "23/02/18 19:52:04 WARN Utils: Your hostname, LAPTOP-85L1BUVJ resolves to a loopback address: 127.0.1.1; using 172.17.235.148 instead (on interface eth0)\n",
      "23/02/18 19:52:04 WARN Utils: Set SPARK_LOCAL_IP if you need to bind to another address\n"
     ]
    },
    {
     "name": "stderr",
     "output_type": "stream",
     "text": [
      "Setting default log level to \"WARN\".\n",
      "To adjust logging level use sc.setLogLevel(newLevel). For SparkR, use setLogLevel(newLevel).\n"
     ]
    },
    {
     "name": "stdout",
     "output_type": "stream",
     "text": [
      "23/02/18 19:52:06 WARN NativeCodeLoader: Unable to load native-hadoop library for your platform... using builtin-java classes where applicable\n"
     ]
    }
   ],
   "source": [
    "# Set context and configs\n",
    "\n",
    "conf = SparkConf().setMaster(\"local\").setAppName(\"Hw03App\")\n",
    "\n",
    "sc = SparkContext(conf=conf)\n",
    "\n",
    "sc.setLogLevel(\"ERROR\")"
   ]
  },
  {
   "cell_type": "code",
   "execution_count": 3,
   "metadata": {
    "vscode": {
     "languageId": "python"
    }
   },
   "outputs": [],
   "source": [
    "# SparkSession\n",
    "\n",
    "spark = SparkSession(sc)"
   ]
  },
  {
   "cell_type": "code",
   "execution_count": 4,
   "metadata": {
    "vscode": {
     "languageId": "python"
    }
   },
   "outputs": [
    {
     "name": "stdout",
     "output_type": "stream",
     "text": [
      "root\n",
      " |-- customerNumber: integer (nullable = true)\n",
      " |-- customerName: string (nullable = true)\n",
      " |-- contactLastName: string (nullable = true)\n",
      " |-- contactFirstName: string (nullable = true)\n",
      " |-- phone: string (nullable = true)\n",
      " |-- addressLine1: string (nullable = true)\n",
      " |-- addressLine2: string (nullable = true)\n",
      " |-- city: string (nullable = true)\n",
      " |-- state: string (nullable = true)\n",
      " |-- postalCode: integer (nullable = true)\n",
      " |-- country: string (nullable = true)\n",
      " |-- salesRepEmployeeNumber: integer (nullable = true)\n",
      " |-- creditLimit: float (nullable = true)\n",
      "\n"
     ]
    },
    {
     "name": "stderr",
     "output_type": "stream",
     "text": [
      "                                                                                \r"
     ]
    },
    {
     "name": "stdout",
     "output_type": "stream",
     "text": [
      "+--------------+--------------------+---------------+----------------+-----------------+--------------------+--------------------+-------------+--------+----------+---------+----------------------+-----------+\n",
      "|customerNumber|        customerName|contactLastName|contactFirstName|            phone|        addressLine1|        addressLine2|         city|   state|postalCode|  country|salesRepEmployeeNumber|creditLimit|\n",
      "+--------------+--------------------+---------------+----------------+-----------------+--------------------+--------------------+-------------+--------+----------+---------+----------------------+-----------+\n",
      "|           103|   Atelier graphique|        Schmitt|         Carine |       40.32.2555|      54, rue Royale|                NULL|       Nantes|    NULL|     44000|   France|                  1370|    21000.0|\n",
      "|           112|  Signal Gift Stores|           King|            Jean|       7025551838|     8489 Strong St.|                NULL|    Las Vegas|      NV|     83030|      USA|                  1166|    71800.0|\n",
      "|           114|Australian Collec...|       Ferguson|           Peter|     03 9520 4555|   636 St Kilda Road|             Level 3|    Melbourne|Victoria|      3004|Australia|                  1611|   117300.0|\n",
      "|           119|   La Rochelle Gifts|        Labrune|         Janine |       40.67.8555|67, rue des Cinqu...|                NULL|       Nantes|    NULL|     44000|   France|                  1370|   118200.0|\n",
      "|           121|  Baane Mini Imports|     Bergulfsen|          Jonas |       07-98 9555|Erling Skakkes ga...|                NULL|      Stavern|    NULL|      4110|   Norway|                  1504|    81700.0|\n",
      "|           124|Mini Gifts Distri...|         Nelson|           Susan|       4155551450|     5677 Strong St.|                NULL|   San Rafael|      CA|     97562|      USA|                  1165|   210500.0|\n",
      "|           125|  Havel & Zbyszek Co|Piestrzeniewicz|        Zbyszek |    (26) 642-7555|     ul. Filtrowa 68|                NULL|     Warszawa|    NULL|      null|   Poland|                  null|        0.0|\n",
      "|           128|Blauer See Auto, Co.|         Keitel|          Roland|+49 69 66 90 2555|       Lyonerstr. 34|                NULL|    Frankfurt|    NULL|     60528|  Germany|                  1504|    59700.0|\n",
      "|           129|     Mini Wheels Co.|         Murphy|           Julie|       6505555787|5557 North Pendal...|                NULL|San Francisco|      CA|     94217|      USA|                  1165|    64600.0|\n",
      "|           131|   Land of Toys Inc.|            Lee|            Kwai|       2125557818|897 Long Airport ...|                NULL|          NYC|      NY|     10022|      USA|                  1323|   114900.0|\n",
      "|           141|Euro+ Shopping Ch...|         Freyre|          Diego |   (91) 555 94 44|  C/ Moralzarzal, 86|                NULL|       Madrid|    NULL|     28034|    Spain|                  1370|   227600.0|\n",
      "|           144|Volvo Model Repli...|       Berglund|      Christina |     0921-12 3555|     Berguvsvägen  8|                NULL|        Luleå|    NULL|      null|   Sweden|                  1504|    53100.0|\n",
      "|           145|Danish Wholesale ...|       Petersen|          Jytte |       31 12 3555|        Vinbæltet 34|                NULL|    Kobenhavn|    NULL|      1734|  Denmark|                  1401|    83400.0|\n",
      "|           146|Saveley & Henriot...|        Saveley|           Mary |       78.32.5555|  2, rue du Commerce|                NULL|         Lyon|    NULL|     69004|   France|                  1337|   123900.0|\n",
      "|           148|Dragon Souveniers...|      Natividad|            Eric|     +65 221 7555|          Bronz Sok.|Bronz Apt. 3/6 Te...|    Singapore|    NULL|     79903|Singapore|                  1621|   103800.0|\n",
      "|           151|  Muscle Machine Inc|          Young|            Jeff|       2125557413|   4092 Furth Circle|           Suite 400|          NYC|      NY|     10022|      USA|                  1286|   138500.0|\n",
      "|           157|Diecast Classics ...|          Leong|          Kelvin|       2155551555|    7586 Pompton St.|                NULL|    Allentown|      PA|     70267|      USA|                  1216|   100600.0|\n",
      "|           161|Technics Stores Inc.|      Hashimoto|            Juri|       6505556809|   9408 Furth Circle|                NULL|   Burlingame|      CA|     94217|      USA|                  1165|    84600.0|\n",
      "|           166|    Handji Gifts& Co|      Victorino|           Wendy|     +65 224 1555|106 Linden Road S...|           2nd Floor|    Singapore|    NULL|     69045|Singapore|                  1612|    97900.0|\n",
      "|           167|        Herkku Gifts|         Oeztan|          Veysel|    +47 2267 3215|     Brehmen St. 121|      PR 334 Sentrum|       Bergen|    NULL|      null| Norway  |                  1504|    96800.0|\n",
      "+--------------+--------------------+---------------+----------------+-----------------+--------------------+--------------------+-------------+--------+----------+---------+----------------------+-----------+\n",
      "only showing top 20 rows\n",
      "\n",
      "customer_df count: 122\n"
     ]
    }
   ],
   "source": [
    "# Read customer data with enforced schema\n",
    "\n",
    "customer_schema = StructType ([\n",
    "    StructField(\"customerNumber\", IntegerType(), True),\n",
    "    StructField(\"customerName\", StringType(), True),\n",
    "    StructField(\"contactLastName\", StringType(), True),\n",
    "    StructField(\"contactFirstName\", StringType(), True),\n",
    "    StructField(\"phone\", StringType(), True),\n",
    "    StructField(\"addressLine1\", StringType(), True),\n",
    "    StructField(\"addressLine2\", StringType(), True),\n",
    "    StructField(\"city\", StringType(), True),\n",
    "    StructField(\"state\", StringType(), True),\n",
    "    StructField(\"postalCode\", IntegerType(), True),\n",
    "    StructField(\"country\", StringType(), True),\n",
    "    StructField(\"salesRepEmployeeNumber\", IntegerType(), True),\n",
    "    StructField(\"creditLimit\", FloatType(), True)\n",
    "])\n",
    "\n",
    "customer_df = (\n",
    "    spark.read\n",
    "    .option(\"header\", True)\n",
    "    .option(\"infer_schema\", True)\n",
    "    .schema(customer_schema)\n",
    "    .csv(\"/home/manny/dev/cscie-63/hw03/notebooks/data/customers.csv\")\n",
    ")\n",
    "\n",
    "customer_df.printSchema()\n",
    "\n",
    "customer_df.show()\n",
    "\n",
    "# Number of rows in customer_df\n",
    "print(f'customer_df count: {customer_df.count()}')"
   ]
  },
  {
   "attachments": {},
   "cell_type": "markdown",
   "metadata": {},
   "source": [
    "```bash\n",
    "# count of customers in database\n",
    "select count(*) from customers;\n",
    "\n",
    "# output\n",
    "+----------+\n",
    "| count(*) |\n",
    "+----------+\n",
    "|      122 |\n",
    "+----------+\n",
    "```"
   ]
  },
  {
   "attachments": {},
   "cell_type": "markdown",
   "metadata": {},
   "source": [
    "### Problem 3\n",
    "\n",
    "Use JDBC Connector to create DataFrame customer_df based on table customers in MySQL. Use DataFrame API, and spark.sql() API on the Spark side and SQL queries on the MySQL side determine which customer has the longest name starting with letters A, B or C."
   ]
  },
  {
   "cell_type": "code",
   "execution_count": 5,
   "metadata": {
    "vscode": {
     "languageId": "python"
    }
   },
   "outputs": [
    {
     "name": "stdout",
     "output_type": "stream",
     "text": [
      "root\n",
      " |-- customerNumber: integer (nullable = true)\n",
      " |-- customerName: string (nullable = true)\n",
      " |-- contactLastName: string (nullable = true)\n",
      " |-- contactFirstName: string (nullable = true)\n",
      " |-- phone: string (nullable = true)\n",
      " |-- addressLine1: string (nullable = true)\n",
      " |-- addressLine2: string (nullable = true)\n",
      " |-- city: string (nullable = true)\n",
      " |-- state: string (nullable = true)\n",
      " |-- postalCode: string (nullable = true)\n",
      " |-- country: string (nullable = true)\n",
      " |-- salesRepEmployeeNumber: integer (nullable = true)\n",
      " |-- creditLimit: decimal(10,2) (nullable = true)\n",
      "\n",
      "+--------------+--------------------+---------------+----------------+-----------------+--------------------+--------------------+-------------+--------+----------+---------+----------------------+-----------+\n",
      "|customerNumber|        customerName|contactLastName|contactFirstName|            phone|        addressLine1|        addressLine2|         city|   state|postalCode|  country|salesRepEmployeeNumber|creditLimit|\n",
      "+--------------+--------------------+---------------+----------------+-----------------+--------------------+--------------------+-------------+--------+----------+---------+----------------------+-----------+\n",
      "|           103|   Atelier graphique|        Schmitt|         Carine |       40.32.2555|      54, rue Royale|                null|       Nantes|    null|     44000|   France|                  1370|   21000.00|\n",
      "|           112|  Signal Gift Stores|           King|            Jean|       7025551838|     8489 Strong St.|                null|    Las Vegas|      NV|     83030|      USA|                  1166|   71800.00|\n",
      "|           114|Australian Collec...|       Ferguson|           Peter|     03 9520 4555|   636 St Kilda Road|             Level 3|    Melbourne|Victoria|      3004|Australia|                  1611|  117300.00|\n",
      "|           119|   La Rochelle Gifts|        Labrune|         Janine |       40.67.8555|67, rue des Cinqu...|                null|       Nantes|    null|     44000|   France|                  1370|  118200.00|\n",
      "|           121|  Baane Mini Imports|     Bergulfsen|          Jonas |       07-98 9555|Erling Skakkes ga...|                null|      Stavern|    null|      4110|   Norway|                  1504|   81700.00|\n",
      "|           124|Mini Gifts Distri...|         Nelson|           Susan|       4155551450|     5677 Strong St.|                null|   San Rafael|      CA|     97562|      USA|                  1165|  210500.00|\n",
      "|           125|  Havel & Zbyszek Co|Piestrzeniewicz|        Zbyszek |    (26) 642-7555|     ul. Filtrowa 68|                null|     Warszawa|    null|    01-012|   Poland|                  null|       0.00|\n",
      "|           128|Blauer See Auto, Co.|         Keitel|          Roland|+49 69 66 90 2555|       Lyonerstr. 34|                null|    Frankfurt|    null|     60528|  Germany|                  1504|   59700.00|\n",
      "|           129|     Mini Wheels Co.|         Murphy|           Julie|       6505555787|5557 North Pendal...|                null|San Francisco|      CA|     94217|      USA|                  1165|   64600.00|\n",
      "|           131|   Land of Toys Inc.|            Lee|            Kwai|       2125557818|897 Long Airport ...|                null|          NYC|      NY|     10022|      USA|                  1323|  114900.00|\n",
      "|           141|Euro+ Shopping Ch...|         Freyre|          Diego |   (91) 555 94 44|  C/ Moralzarzal, 86|                null|       Madrid|    null|     28034|    Spain|                  1370|  227600.00|\n",
      "|           144|Volvo Model Repli...|       Berglund|      Christina |     0921-12 3555|     Berguvsvägen  8|                null|        Luleå|    null|  S-958 22|   Sweden|                  1504|   53100.00|\n",
      "|           145|Danish Wholesale ...|       Petersen|          Jytte |       31 12 3555|        Vinbæltet 34|                null|    Kobenhavn|    null|      1734|  Denmark|                  1401|   83400.00|\n",
      "|           146|Saveley & Henriot...|        Saveley|           Mary |       78.32.5555|  2, rue du Commerce|                null|         Lyon|    null|     69004|   France|                  1337|  123900.00|\n",
      "|           148|Dragon Souveniers...|      Natividad|            Eric|     +65 221 7555|          Bronz Sok.|Bronz Apt. 3/6 Te...|    Singapore|    null|    079903|Singapore|                  1621|  103800.00|\n",
      "|           151|  Muscle Machine Inc|          Young|            Jeff|       2125557413|   4092 Furth Circle|           Suite 400|          NYC|      NY|     10022|      USA|                  1286|  138500.00|\n",
      "|           157|Diecast Classics ...|          Leong|          Kelvin|       2155551555|    7586 Pompton St.|                null|    Allentown|      PA|     70267|      USA|                  1216|  100600.00|\n",
      "|           161|Technics Stores Inc.|      Hashimoto|            Juri|       6505556809|   9408 Furth Circle|                null|   Burlingame|      CA|     94217|      USA|                  1165|   84600.00|\n",
      "|           166|    Handji Gifts& Co|      Victorino|           Wendy|     +65 224 1555|106 Linden Road S...|           2nd Floor|    Singapore|    null|    069045|Singapore|                  1612|   97900.00|\n",
      "|           167|        Herkku Gifts|         Oeztan|          Veysel|    +47 2267 3215|     Brehmen St. 121|      PR 334 Sentrum|       Bergen|    null|    N 5804| Norway  |                  1504|   96800.00|\n",
      "+--------------+--------------------+---------------+----------------+-----------------+--------------------+--------------------+-------------+--------+----------+---------+----------------------+-----------+\n",
      "only showing top 20 rows\n",
      "\n"
     ]
    }
   ],
   "source": [
    "# Connect to mysql using jdbc connector\n",
    "\n",
    "df_customers_mysql = (\n",
    "    spark.read\n",
    "    .format(\"jdbc\")\n",
    "    .option(\"url\",\"jdbc:mysql://127.0.0.1:3306\")\n",
    "    .option(\"driver\",\"com.mysql.cj.jdbc.Driver\")\n",
    "    .option(\"dbtable\", \"classicmodels.customers\")\n",
    "    .option(\"user\", \"root\")\n",
    "    .option(\"password\", \"password\")\n",
    "    .load()\n",
    ")\n",
    "\n",
    "df_customers_mysql.printSchema()\n",
    "\n",
    "df_customers_mysql.show()"
   ]
  },
  {
   "cell_type": "code",
   "execution_count": 6,
   "metadata": {
    "vscode": {
     "languageId": "python"
    }
   },
   "outputs": [
    {
     "name": "stdout",
     "output_type": "stream",
     "text": [
      "+--------------+----------------------------------+---------------+----------------+------------------+------------+------------+------+-----+----------+-------+----------------------+-----------+\n",
      "|customerNumber|customerName                      |contactLastName|contactFirstName|phone             |addressLine1|addressLine2|city  |state|postalCode|country|salesRepEmployeeNumber|creditLimit|\n",
      "+--------------+----------------------------------+---------------+----------------+------------------+------------+------------+------+-----+----------+-------+----------------------+-----------+\n",
      "|415           |Bavarian Collectables Imports, Co.|Donnermeyer    |Michael         | +49 89 61 08 9555|Hansastr. 15|null        |Munich|null |80686     |Germany|1504                  |77000.00   |\n",
      "+--------------+----------------------------------+---------------+----------------+------------------+------------+------------+------+-----+----------+-------+----------------------+-----------+\n",
      "\n"
     ]
    }
   ],
   "source": [
    "# Customer with the longest name starting with A, B, or C --> Dataframe API.\n",
    "\n",
    "# Filter A, B, or, C\n",
    "filtered_df = df_customers_mysql.filter(df_customers_mysql['customerName'].like(\"A%\") | df_customers_mysql['customerName'].like(\"B%\") | df_customers_mysql['customerName'].like(\"C%\"))\n",
    "\n",
    "# Find max length\n",
    "max_len = filtered_df.withColumn(\"customer_len\", length(col(\"customerName\"))).groupBy().max(\"customer_len\").collect()[0][0]\n",
    "\n",
    "# Show customers with names equal to the max length in the DF\n",
    "filtered_df.filter(length(filtered_df['customerName']) == max_len).show(truncate=False)\n"
   ]
  },
  {
   "cell_type": "code",
   "execution_count": 7,
   "metadata": {
    "vscode": {
     "languageId": "python"
    }
   },
   "outputs": [],
   "source": [
    "# Customer with the longest name starting with A, B, or C --> Spark SQL API.\n",
    "\n",
    "# Global temp view\n",
    "df_customers_mysql.createGlobalTempView(\"customers\")"
   ]
  },
  {
   "cell_type": "code",
   "execution_count": 8,
   "metadata": {
    "vscode": {
     "languageId": "python"
    }
   },
   "outputs": [
    {
     "name": "stdout",
     "output_type": "stream",
     "text": [
      "+--------------+--------------------+---------------+----------------+------------------+------------+------------+------+-----+----------+-------+----------------------+-----------+\n",
      "|customerNumber|        customerName|contactLastName|contactFirstName|             phone|addressLine1|addressLine2|  city|state|postalCode|country|salesRepEmployeeNumber|creditLimit|\n",
      "+--------------+--------------------+---------------+----------------+------------------+------------+------------+------+-----+----------+-------+----------------------+-----------+\n",
      "|           415|Bavarian Collecta...|    Donnermeyer|         Michael| +49 89 61 08 9555|Hansastr. 15|        null|Munich| null|     80686|Germany|                  1504|   77000.00|\n",
      "+--------------+--------------------+---------------+----------------+------------------+------------+------------+------+-----+----------+-------+----------------------+-----------+\n",
      "\n"
     ]
    }
   ],
   "source": [
    "# Select with functions to filter and find max\n",
    "\n",
    "sql_filtered = spark.sql(\"SELECT * FROM global_temp.customers \"\n",
    " + \"WHERE customerName LIKE 'A%' OR customerName LIKE 'B%' OR customerName LIKE 'C%' \"\n",
    " + \"ORDER BY length(customerName) DESC LIMIT 1;\")\n",
    "\n",
    "sql_filtered.show()"
   ]
  },
  {
   "attachments": {},
   "cell_type": "markdown",
   "metadata": {},
   "source": [
    "```bash\n",
    "# Mysql Shell\n",
    "mysql> SELECT *, length(customerName) FROM customers\n",
    "    -> WHERE customerName LIKE 'A%' OR customerName LIKE 'B%' OR customerName LIKE 'C%'\n",
    "    -> ORDER BY length(customerName) DESC\n",
    "    -> LIMIT 1;\n",
    "\n",
    "# Output\n",
    "+----------------+------------------------------------+-----------------+------------------+--------------------+--------------+--------------+--------+-------+------------+---------+------------------------+-------------+----------------------+\n",
    "| customerNumber | customerName                       | contactLastName | contactFirstName | phone              | addressLine1 | addressLine2 | city   | state | postalCode | country | salesRepEmployeeNumber | creditLimit | length(customerName) |\n",
    "+----------------+------------------------------------+-----------------+------------------+--------------------+--------------+--------------+--------+-------+------------+---------+------------------------+-------------+----------------------+\n",
    "|            415 | Bavarian Collectables Imports, Co. | Donnermeyer     | Michael          |  +49 89 61 08 9555 | Hansastr. 15 | NULL         | Munich | NULL  | 80686      | Germany |                   1504 |    77000.00 |                   34 |\n",
    "+----------------+------------------------------------+-----------------+------------------+--------------------+--------------+--------------+--------+-------+------------+---------+------------------------+-------------+----------------------+\n",
    "1 row in set (0.00 sec)\n",
    "```"
   ]
  },
  {
   "attachments": {},
   "cell_type": "markdown",
   "metadata": {},
   "source": [
    "### Problem 4\n",
    "\n",
    "Find and report, using spark.sql()on the Spark side and SQL on  MySQL side, the number of unique productCodes in orderdetails table. Both in Spark and MySQL find the product code with the highest priceEach. "
   ]
  },
  {
   "cell_type": "code",
   "execution_count": 9,
   "metadata": {
    "vscode": {
     "languageId": "python"
    }
   },
   "outputs": [],
   "source": [
    "# Unique productCode in orderdetails table --> spark.sql()\n",
    "\n",
    "# Read table\n",
    "df_order_d = (\n",
    "    spark.read\n",
    "    .format(\"jdbc\")\n",
    "    .option(\"url\",\"jdbc:mysql://127.0.0.1:3306\")\n",
    "    .option(\"driver\",\"com.mysql.cj.jdbc.Driver\")\n",
    "    .option(\"dbtable\", \"classicmodels.orderdetails\")\n",
    "    .option(\"user\", \"root\")\n",
    "    .option(\"password\", \"password\")\n",
    "    .load()\n",
    ")\n",
    "\n"
   ]
  },
  {
   "cell_type": "code",
   "execution_count": 10,
   "metadata": {
    "vscode": {
     "languageId": "python"
    }
   },
   "outputs": [],
   "source": [
    "# spark sql global temp view\n",
    "\n",
    "df_order_d_mysql = df_order_d.createGlobalTempView(\"df_order_d_mysql\")"
   ]
  },
  {
   "cell_type": "code",
   "execution_count": 11,
   "metadata": {
    "vscode": {
     "languageId": "python"
    }
   },
   "outputs": [
    {
     "name": "stdout",
     "output_type": "stream",
     "text": [
      "+---------------------------+\n",
      "|count(DISTINCT productCode)|\n",
      "+---------------------------+\n",
      "|                        109|\n",
      "+---------------------------+\n",
      "\n"
     ]
    }
   ],
   "source": [
    "# count distinct product codes\n",
    "\n",
    "unique_codes_df = spark.sql(\"select count(distinct(productCode)) from global_temp.df_order_d_mysql;\")\n",
    "\n",
    "unique_codes_df.show()"
   ]
  },
  {
   "attachments": {},
   "cell_type": "markdown",
   "metadata": {},
   "source": [
    "```bash\n",
    "# sql shell\n",
    "select count(distinct(productCode)) from orderdetails;\n",
    "\n",
    "# output\n",
    "+------------------------------+\n",
    "| count(distinct(productCode)) |\n",
    "+------------------------------+\n",
    "|                          109 |\n",
    "+------------------------------+\n",
    "1 row in set (0.01 sec)\n",
    "```"
   ]
  },
  {
   "cell_type": "code",
   "execution_count": 12,
   "metadata": {
    "vscode": {
     "languageId": "python"
    }
   },
   "outputs": [
    {
     "data": {
      "text/plain": [
       "'S10_1949'"
      ]
     },
     "execution_count": 12,
     "metadata": {},
     "output_type": "execute_result"
    }
   ],
   "source": [
    "# Productcode of max price in orderdetails table\n",
    "\n",
    "df_order_d.select(col(\"productCode\")).orderBy(desc(\"priceEach\")).take(1)[0][0]"
   ]
  },
  {
   "attachments": {},
   "cell_type": "markdown",
   "metadata": {},
   "source": [
    "```bash\n",
    "# SQL shell\n",
    "mysql> select productCode from orderdetails\n",
    "    -> order by priceEach Desc limit 1;\n",
    "\n",
    "# output\n",
    "+-------------+\n",
    "| productCode |\n",
    "+-------------+\n",
    "| S10_1949    |\n",
    "+-------------+\n",
    "1 row in set (0.00 sec)\n",
    "```"
   ]
  },
  {
   "attachments": {},
   "cell_type": "markdown",
   "metadata": {},
   "source": [
    "### Problem 5\n",
    "\n",
    "Using DataFrame Python API create two new DataFrames which will have the complex columns. The first DataFrame should contain a column of type struct(orderNumber,productCode,orderLineNumber, priceEach, quantityOrdered). The second DataFrame will have a complex column of type: map(orderDate, shipDate). Name new DataFrames and columns appropriately. From the first DataFrame select for each productCode the number of units sold and the total value sold. Display 5 productCodes with the highest value sold. From the second DataFrame find the longest and the shortest period between the date a product is ordered and shipped."
   ]
  },
  {
   "cell_type": "code",
   "execution_count": 13,
   "metadata": {
    "vscode": {
     "languageId": "python"
    }
   },
   "outputs": [
    {
     "name": "stdout",
     "output_type": "stream",
     "text": [
      "+--------------------+\n",
      "|  complex_grp_struct|\n",
      "+--------------------+\n",
      "|{10100, S18_1749,...|\n",
      "|{10100, S18_2248,...|\n",
      "|{10100, S18_4409,...|\n",
      "|{10100, S24_3969,...|\n",
      "|{10101, S18_2325,...|\n",
      "|{10101, S18_2795,...|\n",
      "|{10101, S24_1937,...|\n",
      "|{10101, S24_2022,...|\n",
      "|{10102, S18_1342,...|\n",
      "|{10102, S18_1367,...|\n",
      "|{10103, S10_1949,...|\n",
      "|{10103, S10_4962,...|\n",
      "|{10103, S12_1666,...|\n",
      "|{10103, S18_1097,...|\n",
      "|{10103, S18_2432,...|\n",
      "|{10103, S18_2949,...|\n",
      "|{10103, S18_2957,...|\n",
      "|{10103, S18_3136,...|\n",
      "|{10103, S18_3320,...|\n",
      "|{10103, S18_4600,...|\n",
      "+--------------------+\n",
      "only showing top 20 rows\n",
      "\n"
     ]
    }
   ],
   "source": [
    "# Create a df with complex column of structType\n",
    "complex_struct_df = df_order_d.select(struct(\"orderNumber\", \"productCode\", \"quantityOrdered\", \"priceEach\", \"orderLineNumber\").alias(\"complex_grp_struct\"))\n",
    "\n",
    "complex_struct_df.show()"
   ]
  },
  {
   "cell_type": "code",
   "execution_count": 14,
   "metadata": {
    "vscode": {
     "languageId": "python"
    }
   },
   "outputs": [
    {
     "name": "stdout",
     "output_type": "stream",
     "text": [
      "+-----------+--------------------+\n",
      "|productCode|sum(quantityOrdered)|\n",
      "+-----------+--------------------+\n",
      "|   S18_4600|                1061|\n",
      "|   S18_1749|                 918|\n",
      "|   S18_2248|                 832|\n",
      "|   S12_3891|                 965|\n",
      "|  S700_1138|                 934|\n",
      "|   S32_1268|                 911|\n",
      "|   S18_2795|                 880|\n",
      "|   S12_1099|                 933|\n",
      "|   S24_1937|                 937|\n",
      "|   S32_3522|                 988|\n",
      "|   S18_1097|                 999|\n",
      "|   S18_1662|                1040|\n",
      "|   S12_1666|                 972|\n",
      "|   S24_3969|                 824|\n",
      "|   S24_4048|                 867|\n",
      "|   S24_1578|                1033|\n",
      "|   S18_3320|                 992|\n",
      "|   S24_3816|                 923|\n",
      "|   S18_3136|                 907|\n",
      "|   S32_2509|                 955|\n",
      "+-----------+--------------------+\n",
      "only showing top 20 rows\n",
      "\n"
     ]
    }
   ],
   "source": [
    "# number of units sold per product\n",
    "total_sold = complex_struct_df.select(\"complex_grp_struct.productCode\", \"complex_grp_struct.quantityOrdered\").groupBy(\"productCode\").sum(\"quantityOrdered\")\n",
    "\n",
    "total_sold.show()"
   ]
  },
  {
   "cell_type": "code",
   "execution_count": 15,
   "metadata": {
    "vscode": {
     "languageId": "python"
    }
   },
   "outputs": [
    {
     "name": "stdout",
     "output_type": "stream",
     "text": [
      "+-----------+-----------+\n",
      "|productCode|total_value|\n",
      "+-----------+-----------+\n",
      "|   S18_4600|    3023.36|\n",
      "|   S18_1749|    3842.00|\n",
      "|   S18_2248|    1357.32|\n",
      "|   S12_3891|    4271.91|\n",
      "|  S700_1138|    1634.72|\n",
      "|   S32_1268|    2403.89|\n",
      "|   S18_2795|    4196.85|\n",
      "|   S12_1099|    4656.05|\n",
      "|   S24_1937|     838.04|\n",
      "|   S32_3522|    1627.61|\n",
      "|   S18_1097|    2954.09|\n",
      "|   S18_1662|    3894.95|\n",
      "|   S12_1666|    3453.66|\n",
      "|   S24_3969|     909.69|\n",
      "|   S24_4048|    2907.34|\n",
      "|   S24_1578|    2854.70|\n",
      "|   S18_3320|    2472.30|\n",
      "|   S24_3816|    2161.08|\n",
      "|   S18_3136|    2636.87|\n",
      "|   S32_2509|    1364.12|\n",
      "+-----------+-----------+\n",
      "only showing top 20 rows\n",
      "\n"
     ]
    }
   ],
   "source": [
    "# total value sold per product\n",
    "total_val = complex_struct_df.select(\"complex_grp_struct.productCode\", \"complex_grp_struct.priceEach\").groupBy(\"productCode\").agg(sum(\"priceEach\").alias(\"total_value\"))\n",
    "\n",
    "total_val.show()"
   ]
  },
  {
   "cell_type": "code",
   "execution_count": 16,
   "metadata": {
    "vscode": {
     "languageId": "python"
    }
   },
   "outputs": [
    {
     "name": "stdout",
     "output_type": "stream",
     "text": [
      "S18_3232\n",
      "S10_1949\n",
      "S12_1108\n",
      "S10_4698\n",
      "S12_1099\n"
     ]
    }
   ],
   "source": [
    "# Top 5 highest values sold\n",
    "top_5 = total_val.select(col(\"productCode\")).orderBy(desc(\"total_value\")).take(5)\n",
    "\n",
    "for r in top_5:\n",
    "    print(r[\"productCode\"])"
   ]
  },
  {
   "cell_type": "code",
   "execution_count": 17,
   "metadata": {
    "vscode": {
     "languageId": "python"
    }
   },
   "outputs": [],
   "source": [
    "# create orders table\n",
    "# Read table\n",
    "df_orders = (\n",
    "    spark.read\n",
    "    .format(\"jdbc\")\n",
    "    .option(\"url\",\"jdbc:mysql://127.0.0.1:3306\")\n",
    "    .option(\"driver\",\"com.mysql.cj.jdbc.Driver\")\n",
    "    .option(\"dbtable\", \"classicmodels.orders\")\n",
    "    .option(\"user\", \"root\")\n",
    "    .option(\"password\", \"password\")\n",
    "    .load()\n",
    ")"
   ]
  },
  {
   "cell_type": "code",
   "execution_count": 25,
   "metadata": {
    "vscode": {
     "languageId": "python"
    }
   },
   "outputs": [
    {
     "name": "stdout",
     "output_type": "stream",
     "text": [
      "+--------------------+\n",
      "|     complex_grp_map|\n",
      "+--------------------+\n",
      "|{2003-01-06 -> 20...|\n",
      "|{2003-01-09 -> 20...|\n",
      "|{2003-01-10 -> 20...|\n",
      "|{2003-01-29 -> 20...|\n",
      "|{2003-01-31 -> 20...|\n",
      "|{2003-02-11 -> 20...|\n",
      "|{2003-02-17 -> 20...|\n",
      "|{2003-02-24 -> 20...|\n",
      "|{2003-03-03 -> 20...|\n",
      "|{2003-03-10 -> 20...|\n",
      "|{2003-03-18 -> 20...|\n",
      "|{2003-03-25 -> 20...|\n",
      "|{2003-03-24 -> 20...|\n",
      "|{2003-03-26 -> 20...|\n",
      "|{2003-04-01 -> 20...|\n",
      "|{2003-04-04 -> 20...|\n",
      "|{2003-04-11 -> 20...|\n",
      "|{2003-04-16 -> 20...|\n",
      "|{2003-04-21 -> 20...|\n",
      "|{2003-04-28 -> 20...|\n",
      "+--------------------+\n",
      "only showing top 20 rows\n",
      "\n"
     ]
    }
   ],
   "source": [
    "# Create a df with complex column of map type\n",
    "complex_map_df = df_orders.select(create_map(col(\"orderDate\"), col(\"shippedDate\")).alias(\"complex_grp_map\"))\n",
    "\n",
    "complex_map_df.show()"
   ]
  },
  {
   "cell_type": "code",
   "execution_count": 46,
   "metadata": {
    "vscode": {
     "languageId": "python"
    }
   },
   "outputs": [
    {
     "data": {
      "text/plain": [
       "65"
      ]
     },
     "execution_count": 46,
     "metadata": {},
     "output_type": "execute_result"
    }
   ],
   "source": [
    "# Longest time to ship order\n",
    "\n",
    "order_ship = complex_map_df.select(explode(\"complex_grp_map\").alias(\"order_date\", \"ship_date\"))\n",
    "\n",
    "desc = order_ship.select(datediff(col(\"ship_date\"), col(\"order_date\")).alias(\"datediff\")).filter(col(\"datediff\").isNotNull()).orderBy(col(\"datediff\").desc())\n",
    "\n",
    "desc.take(1)[0][0]"
   ]
  },
  {
   "cell_type": "code",
   "execution_count": 48,
   "metadata": {
    "vscode": {
     "languageId": "python"
    }
   },
   "outputs": [
    {
     "data": {
      "text/plain": [
       "1"
      ]
     },
     "execution_count": 48,
     "metadata": {},
     "output_type": "execute_result"
    }
   ],
   "source": [
    "# Shortest time to ship\n",
    "\n",
    "asc = order_ship.select(datediff(col(\"ship_date\"), col(\"order_date\")).alias(\"datediff\")).filter(col(\"datediff\").isNotNull()).orderBy(col(\"datediff\").asc())\n",
    "\n",
    "asc.take(1)[0][0]"
   ]
  }
 ],
 "metadata": {
  "kernelspec": {
   "display_name": "Python 3 (ipykernel)",
   "language": "python",
   "name": "python3"
  },
  "orig_nbformat": 4,
  "vscode": {
   "interpreter": {
    "hash": "cee759d8ba3d05fbc0ce9d562811c528771065e3ebcaa60876c1a7482c086180"
   }
  }
 },
 "nbformat": 4,
 "nbformat_minor": 2
}
